{
 "cells": [
  {
   "cell_type": "code",
   "execution_count": 1,
   "id": "0cb48059",
   "metadata": {},
   "outputs": [],
   "source": [
    "import pandas as pd\n",
    "import numpy as np\n",
    "import matplotlib.pyplot as plt\n",
    "import seaborn as sb"
   ]
  },
  {
   "cell_type": "code",
   "execution_count": 2,
   "id": "e5610859",
   "metadata": {},
   "outputs": [],
   "source": [
    "dataFrame = pd.read_excel(\"merc.xlsx\")"
   ]
  },
  {
   "cell_type": "code",
   "execution_count": 3,
   "id": "fe797db1",
   "metadata": {},
   "outputs": [
    {
     "data": {
      "text/html": [
       "<div>\n",
       "<style scoped>\n",
       "    .dataframe tbody tr th:only-of-type {\n",
       "        vertical-align: middle;\n",
       "    }\n",
       "\n",
       "    .dataframe tbody tr th {\n",
       "        vertical-align: top;\n",
       "    }\n",
       "\n",
       "    .dataframe thead th {\n",
       "        text-align: right;\n",
       "    }\n",
       "</style>\n",
       "<table border=\"1\" class=\"dataframe\">\n",
       "  <thead>\n",
       "    <tr style=\"text-align: right;\">\n",
       "      <th></th>\n",
       "      <th>year</th>\n",
       "      <th>price</th>\n",
       "      <th>transmission</th>\n",
       "      <th>mileage</th>\n",
       "      <th>tax</th>\n",
       "      <th>mpg</th>\n",
       "      <th>engineSize</th>\n",
       "    </tr>\n",
       "  </thead>\n",
       "  <tbody>\n",
       "    <tr>\n",
       "      <th>0</th>\n",
       "      <td>2005</td>\n",
       "      <td>5200</td>\n",
       "      <td>Automatic</td>\n",
       "      <td>63000</td>\n",
       "      <td>325</td>\n",
       "      <td>32.1</td>\n",
       "      <td>1.8</td>\n",
       "    </tr>\n",
       "    <tr>\n",
       "      <th>1</th>\n",
       "      <td>2017</td>\n",
       "      <td>34948</td>\n",
       "      <td>Automatic</td>\n",
       "      <td>27000</td>\n",
       "      <td>20</td>\n",
       "      <td>61.4</td>\n",
       "      <td>2.1</td>\n",
       "    </tr>\n",
       "    <tr>\n",
       "      <th>2</th>\n",
       "      <td>2016</td>\n",
       "      <td>49948</td>\n",
       "      <td>Automatic</td>\n",
       "      <td>6200</td>\n",
       "      <td>555</td>\n",
       "      <td>28.0</td>\n",
       "      <td>5.5</td>\n",
       "    </tr>\n",
       "    <tr>\n",
       "      <th>3</th>\n",
       "      <td>2016</td>\n",
       "      <td>61948</td>\n",
       "      <td>Automatic</td>\n",
       "      <td>16000</td>\n",
       "      <td>325</td>\n",
       "      <td>30.4</td>\n",
       "      <td>4.0</td>\n",
       "    </tr>\n",
       "    <tr>\n",
       "      <th>4</th>\n",
       "      <td>2016</td>\n",
       "      <td>73948</td>\n",
       "      <td>Automatic</td>\n",
       "      <td>4000</td>\n",
       "      <td>325</td>\n",
       "      <td>30.1</td>\n",
       "      <td>4.0</td>\n",
       "    </tr>\n",
       "  </tbody>\n",
       "</table>\n",
       "</div>"
      ],
      "text/plain": [
       "   year  price transmission  mileage  tax   mpg  engineSize\n",
       "0  2005   5200    Automatic    63000  325  32.1         1.8\n",
       "1  2017  34948    Automatic    27000   20  61.4         2.1\n",
       "2  2016  49948    Automatic     6200  555  28.0         5.5\n",
       "3  2016  61948    Automatic    16000  325  30.4         4.0\n",
       "4  2016  73948    Automatic     4000  325  30.1         4.0"
      ]
     },
     "execution_count": 3,
     "metadata": {},
     "output_type": "execute_result"
    }
   ],
   "source": [
    "dataFrame.head()"
   ]
  },
  {
   "cell_type": "code",
   "execution_count": 4,
   "id": "1455ecf0",
   "metadata": {},
   "outputs": [
    {
     "data": {
      "text/html": [
       "<div>\n",
       "<style scoped>\n",
       "    .dataframe tbody tr th:only-of-type {\n",
       "        vertical-align: middle;\n",
       "    }\n",
       "\n",
       "    .dataframe tbody tr th {\n",
       "        vertical-align: top;\n",
       "    }\n",
       "\n",
       "    .dataframe thead th {\n",
       "        text-align: right;\n",
       "    }\n",
       "</style>\n",
       "<table border=\"1\" class=\"dataframe\">\n",
       "  <thead>\n",
       "    <tr style=\"text-align: right;\">\n",
       "      <th></th>\n",
       "      <th>year</th>\n",
       "      <th>price</th>\n",
       "      <th>mileage</th>\n",
       "      <th>tax</th>\n",
       "      <th>mpg</th>\n",
       "      <th>engineSize</th>\n",
       "    </tr>\n",
       "  </thead>\n",
       "  <tbody>\n",
       "    <tr>\n",
       "      <th>count</th>\n",
       "      <td>13119.000000</td>\n",
       "      <td>13119.000000</td>\n",
       "      <td>13119.000000</td>\n",
       "      <td>13119.000000</td>\n",
       "      <td>13119.000000</td>\n",
       "      <td>13119.000000</td>\n",
       "    </tr>\n",
       "    <tr>\n",
       "      <th>mean</th>\n",
       "      <td>2017.296288</td>\n",
       "      <td>24698.596920</td>\n",
       "      <td>21949.559037</td>\n",
       "      <td>129.972178</td>\n",
       "      <td>55.155843</td>\n",
       "      <td>2.071530</td>\n",
       "    </tr>\n",
       "    <tr>\n",
       "      <th>std</th>\n",
       "      <td>2.224709</td>\n",
       "      <td>11842.675542</td>\n",
       "      <td>21176.512267</td>\n",
       "      <td>65.260286</td>\n",
       "      <td>15.220082</td>\n",
       "      <td>0.572426</td>\n",
       "    </tr>\n",
       "    <tr>\n",
       "      <th>min</th>\n",
       "      <td>1970.000000</td>\n",
       "      <td>650.000000</td>\n",
       "      <td>1.000000</td>\n",
       "      <td>0.000000</td>\n",
       "      <td>1.100000</td>\n",
       "      <td>0.000000</td>\n",
       "    </tr>\n",
       "    <tr>\n",
       "      <th>25%</th>\n",
       "      <td>2016.000000</td>\n",
       "      <td>17450.000000</td>\n",
       "      <td>6097.500000</td>\n",
       "      <td>125.000000</td>\n",
       "      <td>45.600000</td>\n",
       "      <td>1.800000</td>\n",
       "    </tr>\n",
       "    <tr>\n",
       "      <th>50%</th>\n",
       "      <td>2018.000000</td>\n",
       "      <td>22480.000000</td>\n",
       "      <td>15189.000000</td>\n",
       "      <td>145.000000</td>\n",
       "      <td>56.500000</td>\n",
       "      <td>2.000000</td>\n",
       "    </tr>\n",
       "    <tr>\n",
       "      <th>75%</th>\n",
       "      <td>2019.000000</td>\n",
       "      <td>28980.000000</td>\n",
       "      <td>31779.500000</td>\n",
       "      <td>145.000000</td>\n",
       "      <td>64.200000</td>\n",
       "      <td>2.100000</td>\n",
       "    </tr>\n",
       "    <tr>\n",
       "      <th>max</th>\n",
       "      <td>2020.000000</td>\n",
       "      <td>159999.000000</td>\n",
       "      <td>259000.000000</td>\n",
       "      <td>580.000000</td>\n",
       "      <td>217.300000</td>\n",
       "      <td>6.200000</td>\n",
       "    </tr>\n",
       "  </tbody>\n",
       "</table>\n",
       "</div>"
      ],
      "text/plain": [
       "               year          price        mileage           tax           mpg  \\\n",
       "count  13119.000000   13119.000000   13119.000000  13119.000000  13119.000000   \n",
       "mean    2017.296288   24698.596920   21949.559037    129.972178     55.155843   \n",
       "std        2.224709   11842.675542   21176.512267     65.260286     15.220082   \n",
       "min     1970.000000     650.000000       1.000000      0.000000      1.100000   \n",
       "25%     2016.000000   17450.000000    6097.500000    125.000000     45.600000   \n",
       "50%     2018.000000   22480.000000   15189.000000    145.000000     56.500000   \n",
       "75%     2019.000000   28980.000000   31779.500000    145.000000     64.200000   \n",
       "max     2020.000000  159999.000000  259000.000000    580.000000    217.300000   \n",
       "\n",
       "         engineSize  \n",
       "count  13119.000000  \n",
       "mean       2.071530  \n",
       "std        0.572426  \n",
       "min        0.000000  \n",
       "25%        1.800000  \n",
       "50%        2.000000  \n",
       "75%        2.100000  \n",
       "max        6.200000  "
      ]
     },
     "execution_count": 4,
     "metadata": {},
     "output_type": "execute_result"
    }
   ],
   "source": [
    "dataFrame.describe() ## veriyi tarif et - count: veri sayısı , mean: ortalama , std: standart sapma , min: en düşük datanın değeri , max: en yüksek datanın değeri"
   ]
  },
  {
   "cell_type": "code",
   "execution_count": 5,
   "id": "f8b6365f",
   "metadata": {},
   "outputs": [
    {
     "data": {
      "text/html": [
       "<div>\n",
       "<style scoped>\n",
       "    .dataframe tbody tr th:only-of-type {\n",
       "        vertical-align: middle;\n",
       "    }\n",
       "\n",
       "    .dataframe tbody tr th {\n",
       "        vertical-align: top;\n",
       "    }\n",
       "\n",
       "    .dataframe thead th {\n",
       "        text-align: right;\n",
       "    }\n",
       "</style>\n",
       "<table border=\"1\" class=\"dataframe\">\n",
       "  <thead>\n",
       "    <tr style=\"text-align: right;\">\n",
       "      <th></th>\n",
       "      <th>year</th>\n",
       "      <th>price</th>\n",
       "      <th>transmission</th>\n",
       "      <th>mileage</th>\n",
       "      <th>tax</th>\n",
       "      <th>mpg</th>\n",
       "      <th>engineSize</th>\n",
       "    </tr>\n",
       "  </thead>\n",
       "  <tbody>\n",
       "    <tr>\n",
       "      <th>0</th>\n",
       "      <td>False</td>\n",
       "      <td>False</td>\n",
       "      <td>False</td>\n",
       "      <td>False</td>\n",
       "      <td>False</td>\n",
       "      <td>False</td>\n",
       "      <td>False</td>\n",
       "    </tr>\n",
       "    <tr>\n",
       "      <th>1</th>\n",
       "      <td>False</td>\n",
       "      <td>False</td>\n",
       "      <td>False</td>\n",
       "      <td>False</td>\n",
       "      <td>False</td>\n",
       "      <td>False</td>\n",
       "      <td>False</td>\n",
       "    </tr>\n",
       "    <tr>\n",
       "      <th>2</th>\n",
       "      <td>False</td>\n",
       "      <td>False</td>\n",
       "      <td>False</td>\n",
       "      <td>False</td>\n",
       "      <td>False</td>\n",
       "      <td>False</td>\n",
       "      <td>False</td>\n",
       "    </tr>\n",
       "    <tr>\n",
       "      <th>3</th>\n",
       "      <td>False</td>\n",
       "      <td>False</td>\n",
       "      <td>False</td>\n",
       "      <td>False</td>\n",
       "      <td>False</td>\n",
       "      <td>False</td>\n",
       "      <td>False</td>\n",
       "    </tr>\n",
       "    <tr>\n",
       "      <th>4</th>\n",
       "      <td>False</td>\n",
       "      <td>False</td>\n",
       "      <td>False</td>\n",
       "      <td>False</td>\n",
       "      <td>False</td>\n",
       "      <td>False</td>\n",
       "      <td>False</td>\n",
       "    </tr>\n",
       "    <tr>\n",
       "      <th>...</th>\n",
       "      <td>...</td>\n",
       "      <td>...</td>\n",
       "      <td>...</td>\n",
       "      <td>...</td>\n",
       "      <td>...</td>\n",
       "      <td>...</td>\n",
       "      <td>...</td>\n",
       "    </tr>\n",
       "    <tr>\n",
       "      <th>13114</th>\n",
       "      <td>False</td>\n",
       "      <td>False</td>\n",
       "      <td>False</td>\n",
       "      <td>False</td>\n",
       "      <td>False</td>\n",
       "      <td>False</td>\n",
       "      <td>False</td>\n",
       "    </tr>\n",
       "    <tr>\n",
       "      <th>13115</th>\n",
       "      <td>False</td>\n",
       "      <td>False</td>\n",
       "      <td>False</td>\n",
       "      <td>False</td>\n",
       "      <td>False</td>\n",
       "      <td>False</td>\n",
       "      <td>False</td>\n",
       "    </tr>\n",
       "    <tr>\n",
       "      <th>13116</th>\n",
       "      <td>False</td>\n",
       "      <td>False</td>\n",
       "      <td>False</td>\n",
       "      <td>False</td>\n",
       "      <td>False</td>\n",
       "      <td>False</td>\n",
       "      <td>False</td>\n",
       "    </tr>\n",
       "    <tr>\n",
       "      <th>13117</th>\n",
       "      <td>False</td>\n",
       "      <td>False</td>\n",
       "      <td>False</td>\n",
       "      <td>False</td>\n",
       "      <td>False</td>\n",
       "      <td>False</td>\n",
       "      <td>False</td>\n",
       "    </tr>\n",
       "    <tr>\n",
       "      <th>13118</th>\n",
       "      <td>False</td>\n",
       "      <td>False</td>\n",
       "      <td>False</td>\n",
       "      <td>False</td>\n",
       "      <td>False</td>\n",
       "      <td>False</td>\n",
       "      <td>False</td>\n",
       "    </tr>\n",
       "  </tbody>\n",
       "</table>\n",
       "<p>13119 rows × 7 columns</p>\n",
       "</div>"
      ],
      "text/plain": [
       "        year  price  transmission  mileage    tax    mpg  engineSize\n",
       "0      False  False         False    False  False  False       False\n",
       "1      False  False         False    False  False  False       False\n",
       "2      False  False         False    False  False  False       False\n",
       "3      False  False         False    False  False  False       False\n",
       "4      False  False         False    False  False  False       False\n",
       "...      ...    ...           ...      ...    ...    ...         ...\n",
       "13114  False  False         False    False  False  False       False\n",
       "13115  False  False         False    False  False  False       False\n",
       "13116  False  False         False    False  False  False       False\n",
       "13117  False  False         False    False  False  False       False\n",
       "13118  False  False         False    False  False  False       False\n",
       "\n",
       "[13119 rows x 7 columns]"
      ]
     },
     "execution_count": 5,
     "metadata": {},
     "output_type": "execute_result"
    }
   ],
   "source": [
    "dataFrame.isnull() # null veri kontrolü"
   ]
  },
  {
   "cell_type": "code",
   "execution_count": 6,
   "id": "2f476ebf",
   "metadata": {},
   "outputs": [
    {
     "data": {
      "text/plain": [
       "year            0\n",
       "price           0\n",
       "transmission    0\n",
       "mileage         0\n",
       "tax             0\n",
       "mpg             0\n",
       "engineSize      0\n",
       "dtype: int64"
      ]
     },
     "execution_count": 6,
     "metadata": {},
     "output_type": "execute_result"
    }
   ],
   "source": [
    "dataFrame.isnull().sum() # toplam null değerlerini gösterir."
   ]
  },
  {
   "cell_type": "code",
   "execution_count": 7,
   "id": "d540b100",
   "metadata": {},
   "outputs": [
    {
     "name": "stderr",
     "output_type": "stream",
     "text": [
      "C:\\ProgramData\\Anaconda3\\lib\\site-packages\\seaborn\\distributions.py:2619: FutureWarning: `distplot` is a deprecated function and will be removed in a future version. Please adapt your code to use either `displot` (a figure-level function with similar flexibility) or `histplot` (an axes-level function for histograms).\n",
      "  warnings.warn(msg, FutureWarning)\n"
     ]
    },
    {
     "data": {
      "text/plain": [
       "<AxesSubplot:xlabel='price', ylabel='Density'>"
      ]
     },
     "execution_count": 7,
     "metadata": {},
     "output_type": "execute_result"
    },
    {
     "data": {
      "image/png": "[encoded data removed]",
      "text/plain": [
       "<Figure size 700x500 with 1 Axes>"
      ]
     },
     "metadata": {},
     "output_type": "display_data"
    }
   ],
   "source": [
    "plt.figure(figsize=(7,5)) # figsize ' boyutu ' değiştirme\n",
    "sb.distplot(dataFrame[\"price\"]) # fiyat grafiği"
   ]
  },
  {
   "cell_type": "code",
   "execution_count": 8,
   "id": "10c29b43",
   "metadata": {},
   "outputs": [],
   "source": [
    "# pahalı arabalar yüzünden grafik sağa kaymış"
   ]
  },
  {
   "cell_type": "code",
   "execution_count": 9,
   "id": "51beb6bb",
   "metadata": {},
   "outputs": [
    {
     "name": "stderr",
     "output_type": "stream",
     "text": [
      "C:\\ProgramData\\Anaconda3\\lib\\site-packages\\seaborn\\_decorators.py:36: FutureWarning: Pass the following variable as a keyword arg: x. From version 0.12, the only valid positional argument will be `data`, and passing other arguments without an explicit keyword will result in an error or misinterpretation.\n",
      "  warnings.warn(\n"
     ]
    },
    {
     "data": {
      "text/plain": [
       "<AxesSubplot:xlabel='year', ylabel='count'>"
      ]
     },
     "execution_count": 9,
     "metadata": {},
     "output_type": "execute_result"
    },
    {
     "data": {
      "image/png": "[encoded data removed]",
      "text/plain": [
       "<Figure size 640x480 with 1 Axes>"
      ]
     },
     "metadata": {},
     "output_type": "display_data"
    }
   ],
   "source": [
    "sb.countplot(dataFrame[\"year\"]) #bir şeyin kaçtane oldugunu gormek icin countplot"
   ]
  },
  {
   "cell_type": "code",
   "execution_count": 10,
   "id": "4715fc1f",
   "metadata": {},
   "outputs": [
    {
     "data": {
      "text/html": [
       "<div>\n",
       "<style scoped>\n",
       "    .dataframe tbody tr th:only-of-type {\n",
       "        vertical-align: middle;\n",
       "    }\n",
       "\n",
       "    .dataframe tbody tr th {\n",
       "        vertical-align: top;\n",
       "    }\n",
       "\n",
       "    .dataframe thead th {\n",
       "        text-align: right;\n",
       "    }\n",
       "</style>\n",
       "<table border=\"1\" class=\"dataframe\">\n",
       "  <thead>\n",
       "    <tr style=\"text-align: right;\">\n",
       "      <th></th>\n",
       "      <th>year</th>\n",
       "      <th>price</th>\n",
       "      <th>mileage</th>\n",
       "      <th>tax</th>\n",
       "      <th>mpg</th>\n",
       "      <th>engineSize</th>\n",
       "    </tr>\n",
       "  </thead>\n",
       "  <tbody>\n",
       "    <tr>\n",
       "      <th>year</th>\n",
       "      <td>1.000000</td>\n",
       "      <td>0.520712</td>\n",
       "      <td>-0.738027</td>\n",
       "      <td>0.012480</td>\n",
       "      <td>-0.094626</td>\n",
       "      <td>-0.142147</td>\n",
       "    </tr>\n",
       "    <tr>\n",
       "      <th>price</th>\n",
       "      <td>0.520712</td>\n",
       "      <td>1.000000</td>\n",
       "      <td>-0.537214</td>\n",
       "      <td>0.268717</td>\n",
       "      <td>-0.438445</td>\n",
       "      <td>0.516126</td>\n",
       "    </tr>\n",
       "    <tr>\n",
       "      <th>mileage</th>\n",
       "      <td>-0.738027</td>\n",
       "      <td>-0.537214</td>\n",
       "      <td>1.000000</td>\n",
       "      <td>-0.160223</td>\n",
       "      <td>0.202850</td>\n",
       "      <td>0.063652</td>\n",
       "    </tr>\n",
       "    <tr>\n",
       "      <th>tax</th>\n",
       "      <td>0.012480</td>\n",
       "      <td>0.268717</td>\n",
       "      <td>-0.160223</td>\n",
       "      <td>1.000000</td>\n",
       "      <td>-0.513742</td>\n",
       "      <td>0.338341</td>\n",
       "    </tr>\n",
       "    <tr>\n",
       "      <th>mpg</th>\n",
       "      <td>-0.094626</td>\n",
       "      <td>-0.438445</td>\n",
       "      <td>0.202850</td>\n",
       "      <td>-0.513742</td>\n",
       "      <td>1.000000</td>\n",
       "      <td>-0.339862</td>\n",
       "    </tr>\n",
       "    <tr>\n",
       "      <th>engineSize</th>\n",
       "      <td>-0.142147</td>\n",
       "      <td>0.516126</td>\n",
       "      <td>0.063652</td>\n",
       "      <td>0.338341</td>\n",
       "      <td>-0.339862</td>\n",
       "      <td>1.000000</td>\n",
       "    </tr>\n",
       "  </tbody>\n",
       "</table>\n",
       "</div>"
      ],
      "text/plain": [
       "                year     price   mileage       tax       mpg  engineSize\n",
       "year        1.000000  0.520712 -0.738027  0.012480 -0.094626   -0.142147\n",
       "price       0.520712  1.000000 -0.537214  0.268717 -0.438445    0.516126\n",
       "mileage    -0.738027 -0.537214  1.000000 -0.160223  0.202850    0.063652\n",
       "tax         0.012480  0.268717 -0.160223  1.000000 -0.513742    0.338341\n",
       "mpg        -0.094626 -0.438445  0.202850 -0.513742  1.000000   -0.339862\n",
       "engineSize -0.142147  0.516126  0.063652  0.338341 -0.339862    1.000000"
      ]
     },
     "execution_count": 10,
     "metadata": {},
     "output_type": "execute_result"
    }
   ],
   "source": [
    "dataFrame.corr() # veri koralisyonu"
   ]
  },
  {
   "cell_type": "code",
   "execution_count": 11,
   "id": "0d457b86",
   "metadata": {},
   "outputs": [
    {
     "data": {
      "text/plain": [
       "mileage      -0.537214\n",
       "mpg          -0.438445\n",
       "tax           0.268717\n",
       "engineSize    0.516126\n",
       "year          0.520712\n",
       "price         1.000000\n",
       "Name: price, dtype: float64"
      ]
     },
     "execution_count": 11,
     "metadata": {},
     "output_type": "execute_result"
    }
   ],
   "source": [
    "dataFrame.corr()[\"price\"].sort_values() # price değerlerini diz küçükten büyüğe"
   ]
  },
  {
   "cell_type": "code",
   "execution_count": 12,
   "id": "3eeb2b65",
   "metadata": {},
   "outputs": [],
   "source": [
    "# fiyatın fiyatla koralisyonu 1 "
   ]
  },
  {
   "cell_type": "code",
   "execution_count": 13,
   "id": "d2b2c676",
   "metadata": {},
   "outputs": [],
   "source": [
    "# tax (vergi) price'yi pozitif etkiliyor çıkarım."
   ]
  },
  {
   "cell_type": "code",
   "execution_count": 14,
   "id": "b7a1ee54",
   "metadata": {},
   "outputs": [],
   "source": [
    "# mpg (kaç milde ne kadar yaktığı) fiyatı negatif etkiliyor"
   ]
  },
  {
   "cell_type": "code",
   "execution_count": 15,
   "id": "78185d61",
   "metadata": {},
   "outputs": [
    {
     "data": {
      "text/plain": [
       "<AxesSubplot:xlabel='mileage', ylabel='price'>"
      ]
     },
     "execution_count": 15,
     "metadata": {},
     "output_type": "execute_result"
    },
    {
     "data": {
      "image/png": "[encoded data removed]",
      "text/plain": [
       "<Figure size 640x480 with 1 Axes>"
      ]
     },
     "metadata": {},
     "output_type": "display_data"
    }
   ],
   "source": [
    "sb.scatterplot(x=\"mileage\",y=\"price\",data=dataFrame)"
   ]
  },
  {
   "cell_type": "code",
   "execution_count": 16,
   "id": "95bc75ba",
   "metadata": {},
   "outputs": [],
   "source": [
    "# pahalı fiyatları görmek için;"
   ]
  },
  {
   "cell_type": "code",
   "execution_count": 17,
   "id": "e260734b",
   "metadata": {},
   "outputs": [
    {
     "data": {
      "text/html": [
       "<div>\n",
       "<style scoped>\n",
       "    .dataframe tbody tr th:only-of-type {\n",
       "        vertical-align: middle;\n",
       "    }\n",
       "\n",
       "    .dataframe tbody tr th {\n",
       "        vertical-align: top;\n",
       "    }\n",
       "\n",
       "    .dataframe thead th {\n",
       "        text-align: right;\n",
       "    }\n",
       "</style>\n",
       "<table border=\"1\" class=\"dataframe\">\n",
       "  <thead>\n",
       "    <tr style=\"text-align: right;\">\n",
       "      <th></th>\n",
       "      <th>year</th>\n",
       "      <th>price</th>\n",
       "      <th>transmission</th>\n",
       "      <th>mileage</th>\n",
       "      <th>tax</th>\n",
       "      <th>mpg</th>\n",
       "      <th>engineSize</th>\n",
       "    </tr>\n",
       "  </thead>\n",
       "  <tbody>\n",
       "    <tr>\n",
       "      <th>6199</th>\n",
       "      <td>2020</td>\n",
       "      <td>159999</td>\n",
       "      <td>Semi-Auto</td>\n",
       "      <td>1350</td>\n",
       "      <td>145</td>\n",
       "      <td>21.4</td>\n",
       "      <td>4.0</td>\n",
       "    </tr>\n",
       "    <tr>\n",
       "      <th>10044</th>\n",
       "      <td>2020</td>\n",
       "      <td>154998</td>\n",
       "      <td>Automatic</td>\n",
       "      <td>3000</td>\n",
       "      <td>150</td>\n",
       "      <td>21.4</td>\n",
       "      <td>4.0</td>\n",
       "    </tr>\n",
       "    <tr>\n",
       "      <th>5</th>\n",
       "      <td>2011</td>\n",
       "      <td>149948</td>\n",
       "      <td>Automatic</td>\n",
       "      <td>3000</td>\n",
       "      <td>570</td>\n",
       "      <td>21.4</td>\n",
       "      <td>6.2</td>\n",
       "    </tr>\n",
       "    <tr>\n",
       "      <th>8737</th>\n",
       "      <td>2019</td>\n",
       "      <td>140319</td>\n",
       "      <td>Semi-Auto</td>\n",
       "      <td>785</td>\n",
       "      <td>150</td>\n",
       "      <td>22.1</td>\n",
       "      <td>4.0</td>\n",
       "    </tr>\n",
       "    <tr>\n",
       "      <th>6386</th>\n",
       "      <td>2018</td>\n",
       "      <td>139995</td>\n",
       "      <td>Semi-Auto</td>\n",
       "      <td>13046</td>\n",
       "      <td>145</td>\n",
       "      <td>21.4</td>\n",
       "      <td>4.0</td>\n",
       "    </tr>\n",
       "    <tr>\n",
       "      <th>8</th>\n",
       "      <td>2019</td>\n",
       "      <td>139948</td>\n",
       "      <td>Automatic</td>\n",
       "      <td>12000</td>\n",
       "      <td>145</td>\n",
       "      <td>21.4</td>\n",
       "      <td>4.0</td>\n",
       "    </tr>\n",
       "    <tr>\n",
       "      <th>9133</th>\n",
       "      <td>2019</td>\n",
       "      <td>139559</td>\n",
       "      <td>Semi-Auto</td>\n",
       "      <td>1000</td>\n",
       "      <td>145</td>\n",
       "      <td>22.1</td>\n",
       "      <td>4.0</td>\n",
       "    </tr>\n",
       "    <tr>\n",
       "      <th>8821</th>\n",
       "      <td>2020</td>\n",
       "      <td>138439</td>\n",
       "      <td>Semi-Auto</td>\n",
       "      <td>1000</td>\n",
       "      <td>145</td>\n",
       "      <td>22.1</td>\n",
       "      <td>4.0</td>\n",
       "    </tr>\n",
       "    <tr>\n",
       "      <th>5902</th>\n",
       "      <td>2018</td>\n",
       "      <td>135771</td>\n",
       "      <td>Semi-Auto</td>\n",
       "      <td>19000</td>\n",
       "      <td>145</td>\n",
       "      <td>21.4</td>\n",
       "      <td>4.0</td>\n",
       "    </tr>\n",
       "    <tr>\n",
       "      <th>7864</th>\n",
       "      <td>2018</td>\n",
       "      <td>135124</td>\n",
       "      <td>Semi-Auto</td>\n",
       "      <td>18234</td>\n",
       "      <td>150</td>\n",
       "      <td>21.4</td>\n",
       "      <td>4.0</td>\n",
       "    </tr>\n",
       "    <tr>\n",
       "      <th>8673</th>\n",
       "      <td>2019</td>\n",
       "      <td>134219</td>\n",
       "      <td>Semi-Auto</td>\n",
       "      <td>1000</td>\n",
       "      <td>145</td>\n",
       "      <td>24.8</td>\n",
       "      <td>4.0</td>\n",
       "    </tr>\n",
       "    <tr>\n",
       "      <th>6210</th>\n",
       "      <td>2019</td>\n",
       "      <td>129990</td>\n",
       "      <td>Automatic</td>\n",
       "      <td>1000</td>\n",
       "      <td>145</td>\n",
       "      <td>24.8</td>\n",
       "      <td>4.0</td>\n",
       "    </tr>\n",
       "    <tr>\n",
       "      <th>4759</th>\n",
       "      <td>2019</td>\n",
       "      <td>126000</td>\n",
       "      <td>Automatic</td>\n",
       "      <td>250</td>\n",
       "      <td>145</td>\n",
       "      <td>24.6</td>\n",
       "      <td>4.0</td>\n",
       "    </tr>\n",
       "    <tr>\n",
       "      <th>2647</th>\n",
       "      <td>2019</td>\n",
       "      <td>125796</td>\n",
       "      <td>Automatic</td>\n",
       "      <td>637</td>\n",
       "      <td>145</td>\n",
       "      <td>24.8</td>\n",
       "      <td>4.0</td>\n",
       "    </tr>\n",
       "    <tr>\n",
       "      <th>6223</th>\n",
       "      <td>2019</td>\n",
       "      <td>124999</td>\n",
       "      <td>Automatic</td>\n",
       "      <td>1500</td>\n",
       "      <td>145</td>\n",
       "      <td>31.7</td>\n",
       "      <td>4.0</td>\n",
       "    </tr>\n",
       "    <tr>\n",
       "      <th>4094</th>\n",
       "      <td>2019</td>\n",
       "      <td>124366</td>\n",
       "      <td>Semi-Auto</td>\n",
       "      <td>880</td>\n",
       "      <td>145</td>\n",
       "      <td>24.8</td>\n",
       "      <td>4.0</td>\n",
       "    </tr>\n",
       "    <tr>\n",
       "      <th>2629</th>\n",
       "      <td>2019</td>\n",
       "      <td>123846</td>\n",
       "      <td>Semi-Auto</td>\n",
       "      <td>2951</td>\n",
       "      <td>145</td>\n",
       "      <td>22.1</td>\n",
       "      <td>4.0</td>\n",
       "    </tr>\n",
       "    <tr>\n",
       "      <th>7134</th>\n",
       "      <td>2019</td>\n",
       "      <td>115359</td>\n",
       "      <td>Semi-Auto</td>\n",
       "      <td>1000</td>\n",
       "      <td>145</td>\n",
       "      <td>30.1</td>\n",
       "      <td>4.0</td>\n",
       "    </tr>\n",
       "    <tr>\n",
       "      <th>9159</th>\n",
       "      <td>2019</td>\n",
       "      <td>114199</td>\n",
       "      <td>Semi-Auto</td>\n",
       "      <td>891</td>\n",
       "      <td>145</td>\n",
       "      <td>22.6</td>\n",
       "      <td>4.0</td>\n",
       "    </tr>\n",
       "    <tr>\n",
       "      <th>1980</th>\n",
       "      <td>2019</td>\n",
       "      <td>109995</td>\n",
       "      <td>Semi-Auto</td>\n",
       "      <td>4688</td>\n",
       "      <td>150</td>\n",
       "      <td>31.7</td>\n",
       "      <td>4.0</td>\n",
       "    </tr>\n",
       "  </tbody>\n",
       "</table>\n",
       "</div>"
      ],
      "text/plain": [
       "       year   price transmission  mileage  tax   mpg  engineSize\n",
       "6199   2020  159999    Semi-Auto     1350  145  21.4         4.0\n",
       "10044  2020  154998    Automatic     3000  150  21.4         4.0\n",
       "5      2011  149948    Automatic     3000  570  21.4         6.2\n",
       "8737   2019  140319    Semi-Auto      785  150  22.1         4.0\n",
       "6386   2018  139995    Semi-Auto    13046  145  21.4         4.0\n",
       "8      2019  139948    Automatic    12000  145  21.4         4.0\n",
       "9133   2019  139559    Semi-Auto     1000  145  22.1         4.0\n",
       "8821   2020  138439    Semi-Auto     1000  145  22.1         4.0\n",
       "5902   2018  135771    Semi-Auto    19000  145  21.4         4.0\n",
       "7864   2018  135124    Semi-Auto    18234  150  21.4         4.0\n",
       "8673   2019  134219    Semi-Auto     1000  145  24.8         4.0\n",
       "6210   2019  129990    Automatic     1000  145  24.8         4.0\n",
       "4759   2019  126000    Automatic      250  145  24.6         4.0\n",
       "2647   2019  125796    Automatic      637  145  24.8         4.0\n",
       "6223   2019  124999    Automatic     1500  145  31.7         4.0\n",
       "4094   2019  124366    Semi-Auto      880  145  24.8         4.0\n",
       "2629   2019  123846    Semi-Auto     2951  145  22.1         4.0\n",
       "7134   2019  115359    Semi-Auto     1000  145  30.1         4.0\n",
       "9159   2019  114199    Semi-Auto      891  145  22.6         4.0\n",
       "1980   2019  109995    Semi-Auto     4688  150  31.7         4.0"
      ]
     },
     "execution_count": 17,
     "metadata": {},
     "output_type": "execute_result"
    }
   ],
   "source": [
    "dataFrame.sort_values(\"price\",ascending= False).head(20) # en yüksek fiyatı en yukarda getirir (büyükten küçüğe) , head 20 de ilk 20 tanesi."
   ]
  },
  {
   "cell_type": "code",
   "execution_count": 18,
   "id": "a064f1ba",
   "metadata": {},
   "outputs": [
    {
     "data": {
      "text/plain": [
       "13119"
      ]
     },
     "execution_count": 18,
     "metadata": {},
     "output_type": "execute_result"
    }
   ],
   "source": [
    "len(dataFrame) # veri adeti"
   ]
  },
  {
   "cell_type": "code",
   "execution_count": 19,
   "id": "47cbbed5",
   "metadata": {},
   "outputs": [
    {
     "data": {
      "text/plain": [
       "131.19"
      ]
     },
     "execution_count": 19,
     "metadata": {},
     "output_type": "execute_result"
    }
   ],
   "source": [
    "len(dataFrame) * 0.01 "
   ]
  },
  {
   "cell_type": "code",
   "execution_count": 20,
   "id": "40970c74",
   "metadata": {},
   "outputs": [],
   "source": [
    "# en yüksek fiyatlı 131 adet arabayı bulup çıkartırsak, grafiğin sağ kaymasını önleyebiliriz."
   ]
  },
  {
   "cell_type": "code",
   "execution_count": 21,
   "id": "98e72fd7",
   "metadata": {},
   "outputs": [],
   "source": [
    "yenilistem = dataFrame.sort_values(\"price\", ascending = False).iloc[131:] # indexe göre locate et. 131'den sonrası"
   ]
  },
  {
   "cell_type": "code",
   "execution_count": 22,
   "id": "a2b7edd5",
   "metadata": {},
   "outputs": [
    {
     "data": {
      "text/html": [
       "<div>\n",
       "<style scoped>\n",
       "    .dataframe tbody tr th:only-of-type {\n",
       "        vertical-align: middle;\n",
       "    }\n",
       "\n",
       "    .dataframe tbody tr th {\n",
       "        vertical-align: top;\n",
       "    }\n",
       "\n",
       "    .dataframe thead th {\n",
       "        text-align: right;\n",
       "    }\n",
       "</style>\n",
       "<table border=\"1\" class=\"dataframe\">\n",
       "  <thead>\n",
       "    <tr style=\"text-align: right;\">\n",
       "      <th></th>\n",
       "      <th>year</th>\n",
       "      <th>price</th>\n",
       "      <th>mileage</th>\n",
       "      <th>tax</th>\n",
       "      <th>mpg</th>\n",
       "      <th>engineSize</th>\n",
       "    </tr>\n",
       "  </thead>\n",
       "  <tbody>\n",
       "    <tr>\n",
       "      <th>count</th>\n",
       "      <td>12988.000000</td>\n",
       "      <td>12988.000000</td>\n",
       "      <td>12988.000000</td>\n",
       "      <td>12988.000000</td>\n",
       "      <td>12988.000000</td>\n",
       "      <td>12988.000000</td>\n",
       "    </tr>\n",
       "    <tr>\n",
       "      <th>mean</th>\n",
       "      <td>2017.281876</td>\n",
       "      <td>24074.926933</td>\n",
       "      <td>22132.741146</td>\n",
       "      <td>129.689714</td>\n",
       "      <td>55.437142</td>\n",
       "      <td>2.050901</td>\n",
       "    </tr>\n",
       "    <tr>\n",
       "      <th>std</th>\n",
       "      <td>2.228515</td>\n",
       "      <td>9866.224575</td>\n",
       "      <td>21196.776401</td>\n",
       "      <td>65.183076</td>\n",
       "      <td>15.025999</td>\n",
       "      <td>0.532596</td>\n",
       "    </tr>\n",
       "    <tr>\n",
       "      <th>min</th>\n",
       "      <td>1970.000000</td>\n",
       "      <td>650.000000</td>\n",
       "      <td>1.000000</td>\n",
       "      <td>0.000000</td>\n",
       "      <td>1.100000</td>\n",
       "      <td>0.000000</td>\n",
       "    </tr>\n",
       "    <tr>\n",
       "      <th>25%</th>\n",
       "      <td>2016.000000</td>\n",
       "      <td>17357.500000</td>\n",
       "      <td>6322.000000</td>\n",
       "      <td>125.000000</td>\n",
       "      <td>45.600000</td>\n",
       "      <td>1.675000</td>\n",
       "    </tr>\n",
       "    <tr>\n",
       "      <th>50%</th>\n",
       "      <td>2018.000000</td>\n",
       "      <td>22299.000000</td>\n",
       "      <td>15369.500000</td>\n",
       "      <td>145.000000</td>\n",
       "      <td>56.500000</td>\n",
       "      <td>2.000000</td>\n",
       "    </tr>\n",
       "    <tr>\n",
       "      <th>75%</th>\n",
       "      <td>2019.000000</td>\n",
       "      <td>28706.000000</td>\n",
       "      <td>31982.250000</td>\n",
       "      <td>145.000000</td>\n",
       "      <td>64.200000</td>\n",
       "      <td>2.100000</td>\n",
       "    </tr>\n",
       "    <tr>\n",
       "      <th>max</th>\n",
       "      <td>2020.000000</td>\n",
       "      <td>65990.000000</td>\n",
       "      <td>259000.000000</td>\n",
       "      <td>580.000000</td>\n",
       "      <td>217.300000</td>\n",
       "      <td>6.200000</td>\n",
       "    </tr>\n",
       "  </tbody>\n",
       "</table>\n",
       "</div>"
      ],
      "text/plain": [
       "               year         price        mileage           tax           mpg  \\\n",
       "count  12988.000000  12988.000000   12988.000000  12988.000000  12988.000000   \n",
       "mean    2017.281876  24074.926933   22132.741146    129.689714     55.437142   \n",
       "std        2.228515   9866.224575   21196.776401     65.183076     15.025999   \n",
       "min     1970.000000    650.000000       1.000000      0.000000      1.100000   \n",
       "25%     2016.000000  17357.500000    6322.000000    125.000000     45.600000   \n",
       "50%     2018.000000  22299.000000   15369.500000    145.000000     56.500000   \n",
       "75%     2019.000000  28706.000000   31982.250000    145.000000     64.200000   \n",
       "max     2020.000000  65990.000000  259000.000000    580.000000    217.300000   \n",
       "\n",
       "         engineSize  \n",
       "count  12988.000000  \n",
       "mean       2.050901  \n",
       "std        0.532596  \n",
       "min        0.000000  \n",
       "25%        1.675000  \n",
       "50%        2.000000  \n",
       "75%        2.100000  \n",
       "max        6.200000  "
      ]
     },
     "execution_count": 22,
     "metadata": {},
     "output_type": "execute_result"
    }
   ],
   "source": [
    "yenilistem.describe()"
   ]
  },
  {
   "cell_type": "code",
   "execution_count": 23,
   "id": "2f7a2f33",
   "metadata": {},
   "outputs": [
    {
     "data": {
      "text/plain": [
       "<Figure size 700x500 with 0 Axes>"
      ]
     },
     "execution_count": 23,
     "metadata": {},
     "output_type": "execute_result"
    },
    {
     "data": {
      "text/plain": [
       "<Figure size 700x500 with 0 Axes>"
      ]
     },
     "metadata": {},
     "output_type": "display_data"
    }
   ],
   "source": [
    "plt.figure(figsize=(7,5)) # 7 x 5 lik figür"
   ]
  },
  {
   "cell_type": "code",
   "execution_count": 24,
   "id": "8ba319dc",
   "metadata": {},
   "outputs": [
    {
     "name": "stderr",
     "output_type": "stream",
     "text": [
      "C:\\ProgramData\\Anaconda3\\lib\\site-packages\\seaborn\\distributions.py:2619: FutureWarning: `distplot` is a deprecated function and will be removed in a future version. Please adapt your code to use either `displot` (a figure-level function with similar flexibility) or `histplot` (an axes-level function for histograms).\n",
      "  warnings.warn(msg, FutureWarning)\n"
     ]
    },
    {
     "data": {
      "text/plain": [
       "<AxesSubplot:xlabel='price', ylabel='Density'>"
      ]
     },
     "execution_count": 24,
     "metadata": {},
     "output_type": "execute_result"
    },
    {
     "data": {
      "image/png": "[encoded data removed]",
      "text/plain": [
       "<Figure size 640x480 with 1 Axes>"
      ]
     },
     "metadata": {},
     "output_type": "display_data"
    }
   ],
   "source": [
    "sb.distplot(yenilistem[\"price\"])"
   ]
  },
  {
   "cell_type": "code",
   "execution_count": 25,
   "id": "9c636137",
   "metadata": {},
   "outputs": [
    {
     "data": {
      "text/plain": [
       "year\n",
       "1970    24999.000000\n",
       "1997     9995.000000\n",
       "1998     8605.000000\n",
       "1999     5995.000000\n",
       "2000     5743.333333\n",
       "2001     4957.900000\n",
       "2002     5820.444444\n",
       "2003     4878.000000\n",
       "2004     4727.615385\n",
       "2005     4426.111111\n",
       "2006     4036.875000\n",
       "2007     5136.045455\n",
       "2008     6967.437500\n",
       "2009     6166.764706\n",
       "2010     8308.473684\n",
       "2011    12624.894737\n",
       "2012    10845.140351\n",
       "2013    11939.842466\n",
       "2014    14042.936864\n",
       "2015    16731.780020\n",
       "2016    19307.892948\n",
       "2017    21514.307854\n",
       "2018    25720.162918\n",
       "2019    31290.020865\n",
       "2020    35433.282337\n",
       "Name: price, dtype: float64"
      ]
     },
     "execution_count": 25,
     "metadata": {},
     "output_type": "execute_result"
    }
   ],
   "source": [
    "dataFrame.groupby(\"year\").mean()[\"price\"] # yıla göre grupla ortalamayı al price sütununu getir."
   ]
  },
  {
   "cell_type": "code",
   "execution_count": 26,
   "id": "2c8e053a",
   "metadata": {},
   "outputs": [
    {
     "data": {
      "text/plain": [
       "year\n",
       "1970    24999.000000\n",
       "1997     9995.000000\n",
       "1998     8605.000000\n",
       "1999     5995.000000\n",
       "2000     5743.333333\n",
       "2001     4957.900000\n",
       "2002     5820.444444\n",
       "2003     4878.000000\n",
       "2004     4727.615385\n",
       "2005     4426.111111\n",
       "2006     4036.875000\n",
       "2007     5136.045455\n",
       "2008     6967.437500\n",
       "2009     6166.764706\n",
       "2010     8308.473684\n",
       "2011     8913.459459\n",
       "2012    10845.140351\n",
       "2013    11939.842466\n",
       "2014    14042.936864\n",
       "2015    16647.822222\n",
       "2016    19223.558943\n",
       "2017    21356.280421\n",
       "2018    24800.844506\n",
       "2019    30289.524832\n",
       "2020    34234.794872\n",
       "Name: price, dtype: float64"
      ]
     },
     "execution_count": 26,
     "metadata": {},
     "output_type": "execute_result"
    }
   ],
   "source": [
    "yenilistem.groupby(\"year\").mean()[\"price\"]"
   ]
  },
  {
   "cell_type": "code",
   "execution_count": 27,
   "id": "772c5678",
   "metadata": {},
   "outputs": [],
   "source": [
    "# 1970'de absürt bir araba var fiyatı çok yüksek."
   ]
  },
  {
   "cell_type": "code",
   "execution_count": 28,
   "id": "3b00f825",
   "metadata": {},
   "outputs": [
    {
     "data": {
      "text/plain": [
       "year\n",
       "1997     9995.000000\n",
       "1998     8605.000000\n",
       "1999     5995.000000\n",
       "2000     5743.333333\n",
       "2001     4957.900000\n",
       "2002     5820.444444\n",
       "2003     4878.000000\n",
       "2004     4727.615385\n",
       "2005     4426.111111\n",
       "2006     4036.875000\n",
       "2007     5136.045455\n",
       "2008     6967.437500\n",
       "2009     6166.764706\n",
       "2010     8308.473684\n",
       "2011    12624.894737\n",
       "2012    10845.140351\n",
       "2013    11939.842466\n",
       "2014    14042.936864\n",
       "2015    16731.780020\n",
       "2016    19307.892948\n",
       "2017    21514.307854\n",
       "2018    25720.162918\n",
       "2019    31290.020865\n",
       "2020    35433.282337\n",
       "Name: price, dtype: float64"
      ]
     },
     "execution_count": 28,
     "metadata": {},
     "output_type": "execute_result"
    }
   ],
   "source": [
    "dataFrame[dataFrame.year != 1970].groupby(\"year\").mean()[\"price\"] # datamızı yılı 1970 olmayana göre grupla"
   ]
  },
  {
   "cell_type": "code",
   "execution_count": 29,
   "id": "707d87af",
   "metadata": {},
   "outputs": [],
   "source": [
    "# dataFrame[\"year\"] kullanmadık, "
   ]
  },
  {
   "cell_type": "code",
   "execution_count": 30,
   "id": "b1979ec8",
   "metadata": {},
   "outputs": [],
   "source": [
    "# gereksiz 131 arabayı atalım"
   ]
  },
  {
   "cell_type": "code",
   "execution_count": 31,
   "id": "67c01d6c",
   "metadata": {},
   "outputs": [],
   "source": [
    "dataFrame = yenilistem"
   ]
  },
  {
   "cell_type": "code",
   "execution_count": 32,
   "id": "828a156d",
   "metadata": {},
   "outputs": [
    {
     "data": {
      "text/html": [
       "<div>\n",
       "<style scoped>\n",
       "    .dataframe tbody tr th:only-of-type {\n",
       "        vertical-align: middle;\n",
       "    }\n",
       "\n",
       "    .dataframe tbody tr th {\n",
       "        vertical-align: top;\n",
       "    }\n",
       "\n",
       "    .dataframe thead th {\n",
       "        text-align: right;\n",
       "    }\n",
       "</style>\n",
       "<table border=\"1\" class=\"dataframe\">\n",
       "  <thead>\n",
       "    <tr style=\"text-align: right;\">\n",
       "      <th></th>\n",
       "      <th>year</th>\n",
       "      <th>price</th>\n",
       "      <th>mileage</th>\n",
       "      <th>tax</th>\n",
       "      <th>mpg</th>\n",
       "      <th>engineSize</th>\n",
       "    </tr>\n",
       "  </thead>\n",
       "  <tbody>\n",
       "    <tr>\n",
       "      <th>count</th>\n",
       "      <td>12988.000000</td>\n",
       "      <td>12988.000000</td>\n",
       "      <td>12988.000000</td>\n",
       "      <td>12988.000000</td>\n",
       "      <td>12988.000000</td>\n",
       "      <td>12988.000000</td>\n",
       "    </tr>\n",
       "    <tr>\n",
       "      <th>mean</th>\n",
       "      <td>2017.281876</td>\n",
       "      <td>24074.926933</td>\n",
       "      <td>22132.741146</td>\n",
       "      <td>129.689714</td>\n",
       "      <td>55.437142</td>\n",
       "      <td>2.050901</td>\n",
       "    </tr>\n",
       "    <tr>\n",
       "      <th>std</th>\n",
       "      <td>2.228515</td>\n",
       "      <td>9866.224575</td>\n",
       "      <td>21196.776401</td>\n",
       "      <td>65.183076</td>\n",
       "      <td>15.025999</td>\n",
       "      <td>0.532596</td>\n",
       "    </tr>\n",
       "    <tr>\n",
       "      <th>min</th>\n",
       "      <td>1970.000000</td>\n",
       "      <td>650.000000</td>\n",
       "      <td>1.000000</td>\n",
       "      <td>0.000000</td>\n",
       "      <td>1.100000</td>\n",
       "      <td>0.000000</td>\n",
       "    </tr>\n",
       "    <tr>\n",
       "      <th>25%</th>\n",
       "      <td>2016.000000</td>\n",
       "      <td>17357.500000</td>\n",
       "      <td>6322.000000</td>\n",
       "      <td>125.000000</td>\n",
       "      <td>45.600000</td>\n",
       "      <td>1.675000</td>\n",
       "    </tr>\n",
       "    <tr>\n",
       "      <th>50%</th>\n",
       "      <td>2018.000000</td>\n",
       "      <td>22299.000000</td>\n",
       "      <td>15369.500000</td>\n",
       "      <td>145.000000</td>\n",
       "      <td>56.500000</td>\n",
       "      <td>2.000000</td>\n",
       "    </tr>\n",
       "    <tr>\n",
       "      <th>75%</th>\n",
       "      <td>2019.000000</td>\n",
       "      <td>28706.000000</td>\n",
       "      <td>31982.250000</td>\n",
       "      <td>145.000000</td>\n",
       "      <td>64.200000</td>\n",
       "      <td>2.100000</td>\n",
       "    </tr>\n",
       "    <tr>\n",
       "      <th>max</th>\n",
       "      <td>2020.000000</td>\n",
       "      <td>65990.000000</td>\n",
       "      <td>259000.000000</td>\n",
       "      <td>580.000000</td>\n",
       "      <td>217.300000</td>\n",
       "      <td>6.200000</td>\n",
       "    </tr>\n",
       "  </tbody>\n",
       "</table>\n",
       "</div>"
      ],
      "text/plain": [
       "               year         price        mileage           tax           mpg  \\\n",
       "count  12988.000000  12988.000000   12988.000000  12988.000000  12988.000000   \n",
       "mean    2017.281876  24074.926933   22132.741146    129.689714     55.437142   \n",
       "std        2.228515   9866.224575   21196.776401     65.183076     15.025999   \n",
       "min     1970.000000    650.000000       1.000000      0.000000      1.100000   \n",
       "25%     2016.000000  17357.500000    6322.000000    125.000000     45.600000   \n",
       "50%     2018.000000  22299.000000   15369.500000    145.000000     56.500000   \n",
       "75%     2019.000000  28706.000000   31982.250000    145.000000     64.200000   \n",
       "max     2020.000000  65990.000000  259000.000000    580.000000    217.300000   \n",
       "\n",
       "         engineSize  \n",
       "count  12988.000000  \n",
       "mean       2.050901  \n",
       "std        0.532596  \n",
       "min        0.000000  \n",
       "25%        1.675000  \n",
       "50%        2.000000  \n",
       "75%        2.100000  \n",
       "max        6.200000  "
      ]
     },
     "execution_count": 32,
     "metadata": {},
     "output_type": "execute_result"
    }
   ],
   "source": [
    "dataFrame.describe()"
   ]
  },
  {
   "cell_type": "code",
   "execution_count": 33,
   "id": "bd3f82df",
   "metadata": {},
   "outputs": [],
   "source": [
    "dataFrame = dataFrame[dataFrame.year != 1970] # 1970'deki arabayı datadan çıkart, eşitleyerek çıkartıyoruz data güncelleniyor"
   ]
  },
  {
   "cell_type": "code",
   "execution_count": 34,
   "id": "315f8987",
   "metadata": {},
   "outputs": [
    {
     "data": {
      "text/plain": [
       "year\n",
       "1997     9995.000000\n",
       "1998     8605.000000\n",
       "1999     5995.000000\n",
       "2000     5743.333333\n",
       "2001     4957.900000\n",
       "2002     5820.444444\n",
       "2003     4878.000000\n",
       "2004     4727.615385\n",
       "2005     4426.111111\n",
       "2006     4036.875000\n",
       "2007     5136.045455\n",
       "2008     6967.437500\n",
       "2009     6166.764706\n",
       "2010     8308.473684\n",
       "2011     8913.459459\n",
       "2012    10845.140351\n",
       "2013    11939.842466\n",
       "2014    14042.936864\n",
       "2015    16647.822222\n",
       "2016    19223.558943\n",
       "2017    21356.280421\n",
       "2018    24800.844506\n",
       "2019    30289.524832\n",
       "2020    34234.794872\n",
       "Name: price, dtype: float64"
      ]
     },
     "execution_count": 34,
     "metadata": {},
     "output_type": "execute_result"
    }
   ],
   "source": [
    "dataFrame.groupby(\"year\").mean()[\"price\"]"
   ]
  },
  {
   "cell_type": "code",
   "execution_count": 35,
   "id": "abba17cc",
   "metadata": {},
   "outputs": [
    {
     "data": {
      "text/html": [
       "<div>\n",
       "<style scoped>\n",
       "    .dataframe tbody tr th:only-of-type {\n",
       "        vertical-align: middle;\n",
       "    }\n",
       "\n",
       "    .dataframe tbody tr th {\n",
       "        vertical-align: top;\n",
       "    }\n",
       "\n",
       "    .dataframe thead th {\n",
       "        text-align: right;\n",
       "    }\n",
       "</style>\n",
       "<table border=\"1\" class=\"dataframe\">\n",
       "  <thead>\n",
       "    <tr style=\"text-align: right;\">\n",
       "      <th></th>\n",
       "      <th>year</th>\n",
       "      <th>price</th>\n",
       "      <th>transmission</th>\n",
       "      <th>mileage</th>\n",
       "      <th>tax</th>\n",
       "      <th>mpg</th>\n",
       "      <th>engineSize</th>\n",
       "    </tr>\n",
       "  </thead>\n",
       "  <tbody>\n",
       "    <tr>\n",
       "      <th>6177</th>\n",
       "      <td>2019</td>\n",
       "      <td>65990</td>\n",
       "      <td>Semi-Auto</td>\n",
       "      <td>5076</td>\n",
       "      <td>150</td>\n",
       "      <td>30.4</td>\n",
       "      <td>3.0</td>\n",
       "    </tr>\n",
       "    <tr>\n",
       "      <th>5779</th>\n",
       "      <td>2020</td>\n",
       "      <td>65990</td>\n",
       "      <td>Semi-Auto</td>\n",
       "      <td>999</td>\n",
       "      <td>145</td>\n",
       "      <td>28.0</td>\n",
       "      <td>4.0</td>\n",
       "    </tr>\n",
       "    <tr>\n",
       "      <th>3191</th>\n",
       "      <td>2020</td>\n",
       "      <td>65980</td>\n",
       "      <td>Semi-Auto</td>\n",
       "      <td>3999</td>\n",
       "      <td>145</td>\n",
       "      <td>28.0</td>\n",
       "      <td>4.0</td>\n",
       "    </tr>\n",
       "    <tr>\n",
       "      <th>4727</th>\n",
       "      <td>2019</td>\n",
       "      <td>65000</td>\n",
       "      <td>Semi-Auto</td>\n",
       "      <td>3398</td>\n",
       "      <td>145</td>\n",
       "      <td>27.2</td>\n",
       "      <td>4.0</td>\n",
       "    </tr>\n",
       "    <tr>\n",
       "      <th>8814</th>\n",
       "      <td>2019</td>\n",
       "      <td>64999</td>\n",
       "      <td>Semi-Auto</td>\n",
       "      <td>119</td>\n",
       "      <td>145</td>\n",
       "      <td>40.9</td>\n",
       "      <td>3.0</td>\n",
       "    </tr>\n",
       "  </tbody>\n",
       "</table>\n",
       "</div>"
      ],
      "text/plain": [
       "      year  price transmission  mileage  tax   mpg  engineSize\n",
       "6177  2019  65990    Semi-Auto     5076  150  30.4         3.0\n",
       "5779  2020  65990    Semi-Auto      999  145  28.0         4.0\n",
       "3191  2020  65980    Semi-Auto     3999  145  28.0         4.0\n",
       "4727  2019  65000    Semi-Auto     3398  145  27.2         4.0\n",
       "8814  2019  64999    Semi-Auto      119  145  40.9         3.0"
      ]
     },
     "execution_count": 35,
     "metadata": {},
     "output_type": "execute_result"
    }
   ],
   "source": [
    "dataFrame.head()"
   ]
  },
  {
   "cell_type": "code",
   "execution_count": 36,
   "id": "4635657f",
   "metadata": {},
   "outputs": [],
   "source": [
    "dataFrame = dataFrame.drop(\"transmission\", axis = 1) # axis=1 sütun, axis=0 satır, kolon düşürdük."
   ]
  },
  {
   "cell_type": "code",
   "execution_count": 37,
   "id": "022e1209",
   "metadata": {},
   "outputs": [
    {
     "data": {
      "text/html": [
       "<div>\n",
       "<style scoped>\n",
       "    .dataframe tbody tr th:only-of-type {\n",
       "        vertical-align: middle;\n",
       "    }\n",
       "\n",
       "    .dataframe tbody tr th {\n",
       "        vertical-align: top;\n",
       "    }\n",
       "\n",
       "    .dataframe thead th {\n",
       "        text-align: right;\n",
       "    }\n",
       "</style>\n",
       "<table border=\"1\" class=\"dataframe\">\n",
       "  <thead>\n",
       "    <tr style=\"text-align: right;\">\n",
       "      <th></th>\n",
       "      <th>year</th>\n",
       "      <th>price</th>\n",
       "      <th>mileage</th>\n",
       "      <th>tax</th>\n",
       "      <th>mpg</th>\n",
       "      <th>engineSize</th>\n",
       "    </tr>\n",
       "  </thead>\n",
       "  <tbody>\n",
       "    <tr>\n",
       "      <th>6177</th>\n",
       "      <td>2019</td>\n",
       "      <td>65990</td>\n",
       "      <td>5076</td>\n",
       "      <td>150</td>\n",
       "      <td>30.4</td>\n",
       "      <td>3.0</td>\n",
       "    </tr>\n",
       "    <tr>\n",
       "      <th>5779</th>\n",
       "      <td>2020</td>\n",
       "      <td>65990</td>\n",
       "      <td>999</td>\n",
       "      <td>145</td>\n",
       "      <td>28.0</td>\n",
       "      <td>4.0</td>\n",
       "    </tr>\n",
       "    <tr>\n",
       "      <th>3191</th>\n",
       "      <td>2020</td>\n",
       "      <td>65980</td>\n",
       "      <td>3999</td>\n",
       "      <td>145</td>\n",
       "      <td>28.0</td>\n",
       "      <td>4.0</td>\n",
       "    </tr>\n",
       "    <tr>\n",
       "      <th>4727</th>\n",
       "      <td>2019</td>\n",
       "      <td>65000</td>\n",
       "      <td>3398</td>\n",
       "      <td>145</td>\n",
       "      <td>27.2</td>\n",
       "      <td>4.0</td>\n",
       "    </tr>\n",
       "    <tr>\n",
       "      <th>8814</th>\n",
       "      <td>2019</td>\n",
       "      <td>64999</td>\n",
       "      <td>119</td>\n",
       "      <td>145</td>\n",
       "      <td>40.9</td>\n",
       "      <td>3.0</td>\n",
       "    </tr>\n",
       "  </tbody>\n",
       "</table>\n",
       "</div>"
      ],
      "text/plain": [
       "      year  price  mileage  tax   mpg  engineSize\n",
       "6177  2019  65990     5076  150  30.4         3.0\n",
       "5779  2020  65990      999  145  28.0         4.0\n",
       "3191  2020  65980     3999  145  28.0         4.0\n",
       "4727  2019  65000     3398  145  27.2         4.0\n",
       "8814  2019  64999      119  145  40.9         3.0"
      ]
     },
     "execution_count": 37,
     "metadata": {},
     "output_type": "execute_result"
    }
   ],
   "source": [
    "dataFrame.head()"
   ]
  },
  {
   "cell_type": "code",
   "execution_count": 38,
   "id": "af1215da",
   "metadata": {},
   "outputs": [],
   "source": [
    "# veriyi düzenledik, regresyon analizine başlayalım"
   ]
  },
  {
   "cell_type": "code",
   "execution_count": 39,
   "id": "c3c98a8a",
   "metadata": {},
   "outputs": [],
   "source": [
    "y = dataFrame[\"price\"].values\n",
    "x = dataFrame.drop(\"price\", axis = 1) "
   ]
  },
  {
   "cell_type": "code",
   "execution_count": 40,
   "id": "ba1e341e",
   "metadata": {},
   "outputs": [
    {
     "data": {
      "text/plain": [
       "array([65990, 65990, 65980, ...,  1490,  1350,   650], dtype=int64)"
      ]
     },
     "execution_count": 40,
     "metadata": {},
     "output_type": "execute_result"
    }
   ],
   "source": [
    "y"
   ]
  },
  {
   "cell_type": "code",
   "execution_count": 41,
   "id": "1f623503",
   "metadata": {},
   "outputs": [
    {
     "data": {
      "text/html": [
       "<div>\n",
       "<style scoped>\n",
       "    .dataframe tbody tr th:only-of-type {\n",
       "        vertical-align: middle;\n",
       "    }\n",
       "\n",
       "    .dataframe tbody tr th {\n",
       "        vertical-align: top;\n",
       "    }\n",
       "\n",
       "    .dataframe thead th {\n",
       "        text-align: right;\n",
       "    }\n",
       "</style>\n",
       "<table border=\"1\" class=\"dataframe\">\n",
       "  <thead>\n",
       "    <tr style=\"text-align: right;\">\n",
       "      <th></th>\n",
       "      <th>year</th>\n",
       "      <th>mileage</th>\n",
       "      <th>tax</th>\n",
       "      <th>mpg</th>\n",
       "      <th>engineSize</th>\n",
       "    </tr>\n",
       "  </thead>\n",
       "  <tbody>\n",
       "    <tr>\n",
       "      <th>6177</th>\n",
       "      <td>2019</td>\n",
       "      <td>5076</td>\n",
       "      <td>150</td>\n",
       "      <td>30.4</td>\n",
       "      <td>3.0</td>\n",
       "    </tr>\n",
       "    <tr>\n",
       "      <th>5779</th>\n",
       "      <td>2020</td>\n",
       "      <td>999</td>\n",
       "      <td>145</td>\n",
       "      <td>28.0</td>\n",
       "      <td>4.0</td>\n",
       "    </tr>\n",
       "    <tr>\n",
       "      <th>3191</th>\n",
       "      <td>2020</td>\n",
       "      <td>3999</td>\n",
       "      <td>145</td>\n",
       "      <td>28.0</td>\n",
       "      <td>4.0</td>\n",
       "    </tr>\n",
       "    <tr>\n",
       "      <th>4727</th>\n",
       "      <td>2019</td>\n",
       "      <td>3398</td>\n",
       "      <td>145</td>\n",
       "      <td>27.2</td>\n",
       "      <td>4.0</td>\n",
       "    </tr>\n",
       "    <tr>\n",
       "      <th>8814</th>\n",
       "      <td>2019</td>\n",
       "      <td>119</td>\n",
       "      <td>145</td>\n",
       "      <td>40.9</td>\n",
       "      <td>3.0</td>\n",
       "    </tr>\n",
       "    <tr>\n",
       "      <th>...</th>\n",
       "      <td>...</td>\n",
       "      <td>...</td>\n",
       "      <td>...</td>\n",
       "      <td>...</td>\n",
       "      <td>...</td>\n",
       "    </tr>\n",
       "    <tr>\n",
       "      <th>11549</th>\n",
       "      <td>2002</td>\n",
       "      <td>13800</td>\n",
       "      <td>305</td>\n",
       "      <td>39.8</td>\n",
       "      <td>2.7</td>\n",
       "    </tr>\n",
       "    <tr>\n",
       "      <th>12594</th>\n",
       "      <td>2004</td>\n",
       "      <td>119000</td>\n",
       "      <td>300</td>\n",
       "      <td>34.5</td>\n",
       "      <td>1.8</td>\n",
       "    </tr>\n",
       "    <tr>\n",
       "      <th>11765</th>\n",
       "      <td>2000</td>\n",
       "      <td>87000</td>\n",
       "      <td>265</td>\n",
       "      <td>27.2</td>\n",
       "      <td>3.2</td>\n",
       "    </tr>\n",
       "    <tr>\n",
       "      <th>12008</th>\n",
       "      <td>2010</td>\n",
       "      <td>116126</td>\n",
       "      <td>145</td>\n",
       "      <td>54.3</td>\n",
       "      <td>2.0</td>\n",
       "    </tr>\n",
       "    <tr>\n",
       "      <th>11816</th>\n",
       "      <td>2003</td>\n",
       "      <td>109090</td>\n",
       "      <td>235</td>\n",
       "      <td>40.0</td>\n",
       "      <td>1.4</td>\n",
       "    </tr>\n",
       "  </tbody>\n",
       "</table>\n",
       "<p>12987 rows × 5 columns</p>\n",
       "</div>"
      ],
      "text/plain": [
       "       year  mileage  tax   mpg  engineSize\n",
       "6177   2019     5076  150  30.4         3.0\n",
       "5779   2020      999  145  28.0         4.0\n",
       "3191   2020     3999  145  28.0         4.0\n",
       "4727   2019     3398  145  27.2         4.0\n",
       "8814   2019      119  145  40.9         3.0\n",
       "...     ...      ...  ...   ...         ...\n",
       "11549  2002    13800  305  39.8         2.7\n",
       "12594  2004   119000  300  34.5         1.8\n",
       "11765  2000    87000  265  27.2         3.2\n",
       "12008  2010   116126  145  54.3         2.0\n",
       "11816  2003   109090  235  40.0         1.4\n",
       "\n",
       "[12987 rows x 5 columns]"
      ]
     },
     "execution_count": 41,
     "metadata": {},
     "output_type": "execute_result"
    }
   ],
   "source": [
    "x"
   ]
  },
  {
   "cell_type": "code",
   "execution_count": 42,
   "id": "a1de8ba1",
   "metadata": {},
   "outputs": [],
   "source": [
    "from sklearn.model_selection import train_test_split # eğiteceğimiz ve test ediceğimiz dizileri bölmememizi sağlayacak"
   ]
  },
  {
   "cell_type": "code",
   "execution_count": 43,
   "id": "28f6b1e6",
   "metadata": {},
   "outputs": [],
   "source": [
    "# x ve y leri bölme işlemleri, "
   ]
  },
  {
   "cell_type": "code",
   "execution_count": 44,
   "id": "2d60b5a4",
   "metadata": {},
   "outputs": [],
   "source": [
    "x_train, x_test, y_train, y_test = train_test_split(x,y,test_size=0.3,random_state=10) # verinin %30'unu kullanarak öğrenme çalışması, verilerin rastgale bölünmesi için random state 10 verdik, tekrar 10 verirsek aynı değerlere gene ulaşırız"
   ]
  },
  {
   "cell_type": "code",
   "execution_count": 45,
   "id": "0f54e93e",
   "metadata": {},
   "outputs": [
    {
     "data": {
      "text/plain": [
       "9090"
      ]
     },
     "execution_count": 45,
     "metadata": {},
     "output_type": "execute_result"
    }
   ],
   "source": [
    "len(x_train) # bölme kontrolü"
   ]
  },
  {
   "cell_type": "code",
   "execution_count": 46,
   "id": "e5b5c91b",
   "metadata": {},
   "outputs": [
    {
     "data": {
      "text/plain": [
       "3897"
      ]
     },
     "execution_count": 46,
     "metadata": {},
     "output_type": "execute_result"
    }
   ],
   "source": [
    "len(x_test)"
   ]
  },
  {
   "cell_type": "code",
   "execution_count": 47,
   "id": "34729cdd",
   "metadata": {},
   "outputs": [],
   "source": [
    "from sklearn.preprocessing import MinMaxScaler # Scaling"
   ]
  },
  {
   "cell_type": "code",
   "execution_count": 48,
   "id": "847bfc17",
   "metadata": {},
   "outputs": [],
   "source": [
    "scaler = MinMaxScaler() # scaler objemiz"
   ]
  },
  {
   "cell_type": "code",
   "execution_count": 49,
   "id": "219ddbc9",
   "metadata": {},
   "outputs": [],
   "source": [
    "x_train = scaler.fit_transform(x_train) # hem fit hem transform"
   ]
  },
  {
   "cell_type": "code",
   "execution_count": 50,
   "id": "a274d85d",
   "metadata": {},
   "outputs": [],
   "source": [
    "x_test = scaler.transform(x_test)"
   ]
  },
  {
   "cell_type": "code",
   "execution_count": 51,
   "id": "fb313956",
   "metadata": {},
   "outputs": [],
   "source": [
    "from tensorflow.keras.models import Sequential # Model Oluşturmak için\n",
    "from tensorflow.keras.layers import Dense # Nöronların birbirine bağlı olduğu layer"
   ]
  },
  {
   "cell_type": "code",
   "execution_count": 52,
   "id": "2de4c323",
   "metadata": {},
   "outputs": [],
   "source": [
    "import tensorflow as tf"
   ]
  },
  {
   "cell_type": "code",
   "execution_count": 53,
   "id": "c86f1cf6",
   "metadata": {},
   "outputs": [
    {
     "data": {
      "text/plain": [
       "(9090, 5)"
      ]
     },
     "execution_count": 53,
     "metadata": {},
     "output_type": "execute_result"
    }
   ],
   "source": [
    "x_train.shape"
   ]
  },
  {
   "cell_type": "code",
   "execution_count": 54,
   "id": "539ee007",
   "metadata": {},
   "outputs": [],
   "source": [
    "# 9090 veri , 5 feature -> özellik (transmission) - layer"
   ]
  },
  {
   "cell_type": "code",
   "execution_count": 55,
   "id": "f4e5515c",
   "metadata": {},
   "outputs": [],
   "source": [
    "model = Sequential() # model oluşturma"
   ]
  },
  {
   "cell_type": "code",
   "execution_count": 56,
   "id": "847fcc21",
   "metadata": {},
   "outputs": [],
   "source": [
    "model.add(Dense(12,activation=\"relu\")) # aktivasyon için relu fonksiyonunu kullanıyoruz\n",
    "model.add(Dense(12,activation=\"relu\"))\n",
    "model.add(Dense(12,activation=\"relu\"))\n",
    "model.add(Dense(12,activation=\"relu\"))\n",
    "\n",
    "model.add(Dense(1)) # çıkış katmanı\n",
    "\n",
    "model.compile(optimizer = \"adam\", loss=\"mse\") # mse fonksiyonu kullanıldı çizgilere uzaklıların karesi fonksiyonu "
   ]
  },
  {
   "cell_type": "code",
   "execution_count": 57,
   "id": "2d7f23f1",
   "metadata": {},
   "outputs": [
    {
     "name": "stdout",
     "output_type": "stream",
     "text": [
      "Epoch 1/300\n",
      "37/37 [==============================] - 1s 6ms/step - loss: 672135744.0000 - val_loss: 688084544.0000\n",
      "Epoch 2/300\n",
      "37/37 [==============================] - 0s 2ms/step - loss: 672084352.0000 - val_loss: 687993216.0000\n",
      "Epoch 3/300\n",
      "37/37 [==============================] - 0s 2ms/step - loss: 671926656.0000 - val_loss: 687727744.0000\n",
      "Epoch 4/300\n",
      "37/37 [==============================] - 0s 2ms/step - loss: 671471360.0000 - val_loss: 686957120.0000\n",
      "Epoch 5/300\n",
      "37/37 [==============================] - 0s 2ms/step - loss: 670205632.0000 - val_loss: 684940288.0000\n",
      "Epoch 6/300\n",
      "37/37 [==============================] - 0s 2ms/step - loss: 667138368.0000 - val_loss: 680338880.0000\n",
      "Epoch 7/300\n",
      "37/37 [==============================] - 0s 2ms/step - loss: 660600000.0000 - val_loss: 671048320.0000\n",
      "Epoch 8/300\n",
      "37/37 [==============================] - 0s 2ms/step - loss: 648099072.0000 - val_loss: 654134848.0000\n",
      "Epoch 9/300\n",
      "37/37 [==============================] - 0s 2ms/step - loss: 626415616.0000 - val_loss: 626011200.0000\n",
      "Epoch 10/300\n",
      "37/37 [==============================] - 0s 2ms/step - loss: 591944384.0000 - val_loss: 582958464.0000\n",
      "Epoch 11/300\n",
      "37/37 [==============================] - 0s 2ms/step - loss: 541357376.0000 - val_loss: 522346976.0000\n",
      "Epoch 12/300\n",
      "37/37 [==============================] - 0s 2ms/step - loss: 473184064.0000 - val_loss: 444118016.0000\n",
      "Epoch 13/300\n",
      "37/37 [==============================] - 0s 2ms/step - loss: 389680352.0000 - val_loss: 353384640.0000\n",
      "Epoch 14/300\n",
      "37/37 [==============================] - 0s 2ms/step - loss: 298713216.0000 - val_loss: 260621296.0000\n",
      "Epoch 15/300\n",
      "37/37 [==============================] - 0s 2ms/step - loss: 212982896.0000 - val_loss: 180906128.0000\n",
      "Epoch 16/300\n",
      "37/37 [==============================] - 0s 2ms/step - loss: 147099152.0000 - val_loss: 127278520.0000\n",
      "Epoch 17/300\n",
      "37/37 [==============================] - 0s 2ms/step - loss: 108441080.0000 - val_loss: 100304480.0000\n",
      "Epoch 18/300\n",
      "37/37 [==============================] - 0s 2ms/step - loss: 92164536.0000 - val_loss: 90843320.0000\n",
      "Epoch 19/300\n",
      "37/37 [==============================] - 0s 2ms/step - loss: 87295816.0000 - val_loss: 88058336.0000\n",
      "Epoch 20/300\n",
      "37/37 [==============================] - 0s 2ms/step - loss: 85883120.0000 - val_loss: 87029432.0000\n",
      "Epoch 21/300\n",
      "37/37 [==============================] - 0s 2ms/step - loss: 85226984.0000 - val_loss: 86374904.0000\n",
      "Epoch 22/300\n",
      "37/37 [==============================] - 0s 2ms/step - loss: 84675568.0000 - val_loss: 85863168.0000\n",
      "Epoch 23/300\n",
      "37/37 [==============================] - 0s 2ms/step - loss: 84176680.0000 - val_loss: 85348416.0000\n",
      "Epoch 24/300\n",
      "37/37 [==============================] - 0s 2ms/step - loss: 83696664.0000 - val_loss: 84884944.0000\n",
      "Epoch 25/300\n",
      "37/37 [==============================] - 0s 2ms/step - loss: 83227104.0000 - val_loss: 84408616.0000\n",
      "Epoch 26/300\n",
      "37/37 [==============================] - 0s 2ms/step - loss: 82774464.0000 - val_loss: 83961472.0000\n",
      "Epoch 27/300\n",
      "37/37 [==============================] - 0s 2ms/step - loss: 82328016.0000 - val_loss: 83523392.0000\n",
      "Epoch 28/300\n",
      "37/37 [==============================] - 0s 3ms/step - loss: 81891720.0000 - val_loss: 83104984.0000\n",
      "Epoch 29/300\n",
      "37/37 [==============================] - 0s 2ms/step - loss: 81463192.0000 - val_loss: 82666112.0000\n",
      "Epoch 30/300\n",
      "37/37 [==============================] - 0s 2ms/step - loss: 81038064.0000 - val_loss: 82247816.0000\n",
      "Epoch 31/300\n",
      "37/37 [==============================] - 0s 2ms/step - loss: 80612072.0000 - val_loss: 81834248.0000\n",
      "Epoch 32/300\n",
      "37/37 [==============================] - 0s 2ms/step - loss: 80204104.0000 - val_loss: 81414472.0000\n",
      "Epoch 33/300\n",
      "37/37 [==============================] - 0s 2ms/step - loss: 79779568.0000 - val_loss: 81033416.0000\n",
      "Epoch 34/300\n",
      "37/37 [==============================] - 0s 2ms/step - loss: 79368000.0000 - val_loss: 80582624.0000\n",
      "Epoch 35/300\n",
      "37/37 [==============================] - 0s 2ms/step - loss: 78951792.0000 - val_loss: 80190824.0000\n",
      "Epoch 36/300\n",
      "37/37 [==============================] - 0s 2ms/step - loss: 78545168.0000 - val_loss: 79781416.0000\n",
      "Epoch 37/300\n",
      "37/37 [==============================] - 0s 2ms/step - loss: 78140504.0000 - val_loss: 79373032.0000\n",
      "Epoch 38/300\n",
      "37/37 [==============================] - 0s 2ms/step - loss: 77718272.0000 - val_loss: 78968944.0000\n",
      "Epoch 39/300\n",
      "37/37 [==============================] - 0s 2ms/step - loss: 77307104.0000 - val_loss: 78558880.0000\n",
      "Epoch 40/300\n",
      "37/37 [==============================] - 0s 2ms/step - loss: 76902728.0000 - val_loss: 78148808.0000\n",
      "Epoch 41/300\n",
      "37/37 [==============================] - 0s 2ms/step - loss: 76485008.0000 - val_loss: 77751368.0000\n",
      "Epoch 42/300\n",
      "37/37 [==============================] - 0s 2ms/step - loss: 76092168.0000 - val_loss: 77316888.0000\n",
      "Epoch 43/300\n",
      "37/37 [==============================] - 0s 2ms/step - loss: 75665208.0000 - val_loss: 76918736.0000\n",
      "Epoch 44/300\n",
      "37/37 [==============================] - 0s 2ms/step - loss: 75252888.0000 - val_loss: 76545512.0000\n",
      "Epoch 45/300\n",
      "37/37 [==============================] - 0s 2ms/step - loss: 74842240.0000 - val_loss: 76122096.0000\n",
      "Epoch 46/300\n",
      "37/37 [==============================] - 0s 2ms/step - loss: 74432528.0000 - val_loss: 75694856.0000\n",
      "Epoch 47/300\n",
      "37/37 [==============================] - 0s 2ms/step - loss: 74011784.0000 - val_loss: 75310552.0000\n",
      "Epoch 48/300\n",
      "37/37 [==============================] - 0s 2ms/step - loss: 73597336.0000 - val_loss: 74896576.0000\n",
      "Epoch 49/300\n",
      "37/37 [==============================] - 0s 2ms/step - loss: 73189264.0000 - val_loss: 74447616.0000\n",
      "Epoch 50/300\n",
      "37/37 [==============================] - 0s 2ms/step - loss: 72765944.0000 - val_loss: 74069416.0000\n",
      "Epoch 51/300\n",
      "37/37 [==============================] - 0s 2ms/step - loss: 72355176.0000 - val_loss: 73662320.0000\n",
      "Epoch 52/300\n",
      "37/37 [==============================] - 0s 2ms/step - loss: 71920776.0000 - val_loss: 73220288.0000\n",
      "Epoch 53/300\n",
      "37/37 [==============================] - 0s 2ms/step - loss: 71497920.0000 - val_loss: 72793216.0000\n",
      "Epoch 54/300\n",
      "37/37 [==============================] - 0s 2ms/step - loss: 71069520.0000 - val_loss: 72384384.0000\n",
      "Epoch 55/300\n",
      "37/37 [==============================] - 0s 2ms/step - loss: 70640544.0000 - val_loss: 71939824.0000\n",
      "Epoch 56/300\n",
      "37/37 [==============================] - 0s 2ms/step - loss: 70208520.0000 - val_loss: 71523264.0000\n",
      "Epoch 57/300\n",
      "37/37 [==============================] - 0s 2ms/step - loss: 69791056.0000 - val_loss: 71114912.0000\n",
      "Epoch 58/300\n",
      "37/37 [==============================] - 0s 2ms/step - loss: 69345320.0000 - val_loss: 70684960.0000\n",
      "Epoch 59/300\n",
      "37/37 [==============================] - 0s 2ms/step - loss: 68900352.0000 - val_loss: 70223824.0000\n",
      "Epoch 60/300\n",
      "37/37 [==============================] - 0s 2ms/step - loss: 68456736.0000 - val_loss: 69780208.0000\n",
      "Epoch 61/300\n",
      "37/37 [==============================] - 0s 2ms/step - loss: 67998440.0000 - val_loss: 69322544.0000\n",
      "Epoch 62/300\n",
      "37/37 [==============================] - 0s 2ms/step - loss: 67541800.0000 - val_loss: 68866128.0000\n",
      "Epoch 63/300\n",
      "37/37 [==============================] - 0s 2ms/step - loss: 67091732.0000 - val_loss: 68427576.0000\n",
      "Epoch 64/300\n",
      "37/37 [==============================] - 0s 2ms/step - loss: 66620640.0000 - val_loss: 67969120.0000\n",
      "Epoch 65/300\n",
      "37/37 [==============================] - 0s 2ms/step - loss: 66175000.0000 - val_loss: 67497320.0000\n",
      "Epoch 66/300\n",
      "37/37 [==============================] - 0s 2ms/step - loss: 65690944.0000 - val_loss: 67051652.0000\n",
      "Epoch 67/300\n",
      "37/37 [==============================] - 0s 2ms/step - loss: 65197608.0000 - val_loss: 66544588.0000\n",
      "Epoch 68/300\n",
      "37/37 [==============================] - 0s 2ms/step - loss: 64717852.0000 - val_loss: 66061568.0000\n",
      "Epoch 69/300\n",
      "37/37 [==============================] - 0s 2ms/step - loss: 64231864.0000 - val_loss: 65582224.0000\n",
      "Epoch 70/300\n",
      "37/37 [==============================] - 0s 2ms/step - loss: 63737740.0000 - val_loss: 65098092.0000\n",
      "Epoch 71/300\n",
      "37/37 [==============================] - 0s 2ms/step - loss: 63235096.0000 - val_loss: 64594848.0000\n",
      "Epoch 72/300\n"
     ]
    },
    {
     "name": "stdout",
     "output_type": "stream",
     "text": [
      "37/37 [==============================] - 0s 2ms/step - loss: 62733372.0000 - val_loss: 64077820.0000\n",
      "Epoch 73/300\n",
      "37/37 [==============================] - 0s 2ms/step - loss: 62224996.0000 - val_loss: 63576160.0000\n",
      "Epoch 74/300\n",
      "37/37 [==============================] - 0s 2ms/step - loss: 61703024.0000 - val_loss: 63066656.0000\n",
      "Epoch 75/300\n",
      "37/37 [==============================] - 0s 2ms/step - loss: 61189896.0000 - val_loss: 62509244.0000\n",
      "Epoch 76/300\n",
      "37/37 [==============================] - 0s 2ms/step - loss: 60648652.0000 - val_loss: 61999552.0000\n",
      "Epoch 77/300\n",
      "37/37 [==============================] - 0s 2ms/step - loss: 60107120.0000 - val_loss: 61462840.0000\n",
      "Epoch 78/300\n",
      "37/37 [==============================] - 0s 2ms/step - loss: 59561180.0000 - val_loss: 60890304.0000\n",
      "Epoch 79/300\n",
      "37/37 [==============================] - 0s 2ms/step - loss: 58998992.0000 - val_loss: 60351848.0000\n",
      "Epoch 80/300\n",
      "37/37 [==============================] - 0s 2ms/step - loss: 58445532.0000 - val_loss: 59804808.0000\n",
      "Epoch 81/300\n",
      "37/37 [==============================] - 0s 2ms/step - loss: 57860328.0000 - val_loss: 59196960.0000\n",
      "Epoch 82/300\n",
      "37/37 [==============================] - 0s 3ms/step - loss: 57301272.0000 - val_loss: 58622844.0000\n",
      "Epoch 83/300\n",
      "37/37 [==============================] - 0s 2ms/step - loss: 56688760.0000 - val_loss: 58021348.0000\n",
      "Epoch 84/300\n",
      "37/37 [==============================] - 0s 2ms/step - loss: 56092672.0000 - val_loss: 57437888.0000\n",
      "Epoch 85/300\n",
      "37/37 [==============================] - 0s 2ms/step - loss: 55484220.0000 - val_loss: 56818952.0000\n",
      "Epoch 86/300\n",
      "37/37 [==============================] - 0s 2ms/step - loss: 54851472.0000 - val_loss: 56177616.0000\n",
      "Epoch 87/300\n",
      "37/37 [==============================] - 0s 2ms/step - loss: 54233724.0000 - val_loss: 55535280.0000\n",
      "Epoch 88/300\n",
      "37/37 [==============================] - 0s 2ms/step - loss: 53587044.0000 - val_loss: 54884360.0000\n",
      "Epoch 89/300\n",
      "37/37 [==============================] - 0s 2ms/step - loss: 52927332.0000 - val_loss: 54216560.0000\n",
      "Epoch 90/300\n",
      "37/37 [==============================] - 0s 2ms/step - loss: 52270016.0000 - val_loss: 53578660.0000\n",
      "Epoch 91/300\n",
      "37/37 [==============================] - 0s 2ms/step - loss: 51594260.0000 - val_loss: 52872148.0000\n",
      "Epoch 92/300\n",
      "37/37 [==============================] - 0s 2ms/step - loss: 50913852.0000 - val_loss: 52170668.0000\n",
      "Epoch 93/300\n",
      "37/37 [==============================] - 0s 2ms/step - loss: 50224728.0000 - val_loss: 51483104.0000\n",
      "Epoch 94/300\n",
      "37/37 [==============================] - 0s 2ms/step - loss: 49525028.0000 - val_loss: 50766012.0000\n",
      "Epoch 95/300\n",
      "37/37 [==============================] - 0s 2ms/step - loss: 48814160.0000 - val_loss: 50035076.0000\n",
      "Epoch 96/300\n",
      "37/37 [==============================] - 0s 2ms/step - loss: 48089940.0000 - val_loss: 49304740.0000\n",
      "Epoch 97/300\n",
      "37/37 [==============================] - 0s 2ms/step - loss: 47369248.0000 - val_loss: 48574468.0000\n",
      "Epoch 98/300\n",
      "37/37 [==============================] - 0s 2ms/step - loss: 46617072.0000 - val_loss: 47822156.0000\n",
      "Epoch 99/300\n",
      "37/37 [==============================] - 0s 2ms/step - loss: 45890976.0000 - val_loss: 47064644.0000\n",
      "Epoch 100/300\n",
      "37/37 [==============================] - 0s 2ms/step - loss: 45140852.0000 - val_loss: 46305092.0000\n",
      "Epoch 101/300\n",
      "37/37 [==============================] - 0s 2ms/step - loss: 44407888.0000 - val_loss: 45553812.0000\n",
      "Epoch 102/300\n",
      "37/37 [==============================] - 0s 2ms/step - loss: 43666732.0000 - val_loss: 44812796.0000\n",
      "Epoch 103/300\n",
      "37/37 [==============================] - 0s 2ms/step - loss: 42936876.0000 - val_loss: 44056096.0000\n",
      "Epoch 104/300\n",
      "37/37 [==============================] - 0s 2ms/step - loss: 42187856.0000 - val_loss: 43261964.0000\n",
      "Epoch 105/300\n",
      "37/37 [==============================] - 0s 2ms/step - loss: 41449028.0000 - val_loss: 42498044.0000\n",
      "Epoch 106/300\n",
      "37/37 [==============================] - 0s 2ms/step - loss: 40718744.0000 - val_loss: 41797904.0000\n",
      "Epoch 107/300\n",
      "37/37 [==============================] - 0s 2ms/step - loss: 40018468.0000 - val_loss: 41011948.0000\n",
      "Epoch 108/300\n",
      "37/37 [==============================] - 0s 2ms/step - loss: 39299948.0000 - val_loss: 40304960.0000\n",
      "Epoch 109/300\n",
      "37/37 [==============================] - 0s 2ms/step - loss: 38627532.0000 - val_loss: 39586012.0000\n",
      "Epoch 110/300\n",
      "37/37 [==============================] - 0s 2ms/step - loss: 37959204.0000 - val_loss: 38909688.0000\n",
      "Epoch 111/300\n",
      "37/37 [==============================] - 0s 2ms/step - loss: 37327816.0000 - val_loss: 38238604.0000\n",
      "Epoch 112/300\n",
      "37/37 [==============================] - 0s 2ms/step - loss: 36698676.0000 - val_loss: 37594544.0000\n",
      "Epoch 113/300\n",
      "37/37 [==============================] - 0s 2ms/step - loss: 36106284.0000 - val_loss: 36985148.0000\n",
      "Epoch 114/300\n",
      "37/37 [==============================] - 0s 2ms/step - loss: 35534656.0000 - val_loss: 36393248.0000\n",
      "Epoch 115/300\n",
      "37/37 [==============================] - 0s 2ms/step - loss: 34988004.0000 - val_loss: 35828500.0000\n",
      "Epoch 116/300\n",
      "37/37 [==============================] - 0s 2ms/step - loss: 34467648.0000 - val_loss: 35273364.0000\n",
      "Epoch 117/300\n",
      "37/37 [==============================] - 0s 2ms/step - loss: 33943372.0000 - val_loss: 34739272.0000\n",
      "Epoch 118/300\n",
      "37/37 [==============================] - 0s 2ms/step - loss: 33451612.0000 - val_loss: 34222696.0000\n",
      "Epoch 119/300\n",
      "37/37 [==============================] - 0s 2ms/step - loss: 32971114.0000 - val_loss: 33732688.0000\n",
      "Epoch 120/300\n",
      "37/37 [==============================] - 0s 2ms/step - loss: 32523826.0000 - val_loss: 33297620.0000\n",
      "Epoch 121/300\n",
      "37/37 [==============================] - 0s 2ms/step - loss: 32084868.0000 - val_loss: 32804120.0000\n",
      "Epoch 122/300\n",
      "37/37 [==============================] - 0s 2ms/step - loss: 31644548.0000 - val_loss: 32382556.0000\n",
      "Epoch 123/300\n",
      "37/37 [==============================] - 0s 2ms/step - loss: 31257446.0000 - val_loss: 31963784.0000\n",
      "Epoch 124/300\n",
      "37/37 [==============================] - 0s 2ms/step - loss: 30857614.0000 - val_loss: 31561540.0000\n",
      "Epoch 125/300\n",
      "37/37 [==============================] - 0s 2ms/step - loss: 30491262.0000 - val_loss: 31216142.0000\n",
      "Epoch 126/300\n",
      "37/37 [==============================] - 0s 2ms/step - loss: 30157378.0000 - val_loss: 30834630.0000\n",
      "Epoch 127/300\n",
      "37/37 [==============================] - 0s 2ms/step - loss: 29853610.0000 - val_loss: 30505566.0000\n",
      "Epoch 128/300\n",
      "37/37 [==============================] - 0s 2ms/step - loss: 29514892.0000 - val_loss: 30212090.0000\n",
      "Epoch 129/300\n",
      "37/37 [==============================] - 0s 2ms/step - loss: 29259722.0000 - val_loss: 29947012.0000\n",
      "Epoch 130/300\n",
      "37/37 [==============================] - 0s 2ms/step - loss: 28995404.0000 - val_loss: 29692872.0000\n",
      "Epoch 131/300\n",
      "37/37 [==============================] - 0s 2ms/step - loss: 28766332.0000 - val_loss: 29440136.0000\n",
      "Epoch 132/300\n",
      "37/37 [==============================] - 0s 2ms/step - loss: 28526376.0000 - val_loss: 29199228.0000\n",
      "Epoch 133/300\n",
      "37/37 [==============================] - 0s 2ms/step - loss: 28315314.0000 - val_loss: 28970104.0000\n",
      "Epoch 134/300\n",
      "37/37 [==============================] - 0s 2ms/step - loss: 28114818.0000 - val_loss: 28760504.0000\n",
      "Epoch 135/300\n",
      "37/37 [==============================] - 0s 2ms/step - loss: 27910380.0000 - val_loss: 28552772.0000\n",
      "Epoch 136/300\n",
      "37/37 [==============================] - 0s 2ms/step - loss: 27716378.0000 - val_loss: 28415262.0000\n",
      "Epoch 137/300\n",
      "37/37 [==============================] - 0s 2ms/step - loss: 27525170.0000 - val_loss: 28156618.0000\n",
      "Epoch 138/300\n",
      "37/37 [==============================] - 0s 2ms/step - loss: 27328138.0000 - val_loss: 28000602.0000\n",
      "Epoch 139/300\n",
      "37/37 [==============================] - 0s 2ms/step - loss: 27164282.0000 - val_loss: 27743830.0000\n",
      "Epoch 140/300\n",
      "37/37 [==============================] - 0s 2ms/step - loss: 26879572.0000 - val_loss: 27521152.0000\n",
      "Epoch 141/300\n",
      "37/37 [==============================] - 0s 2ms/step - loss: 26652830.0000 - val_loss: 27259256.0000\n",
      "Epoch 142/300\n",
      "37/37 [==============================] - 0s 2ms/step - loss: 26400650.0000 - val_loss: 27014458.0000\n",
      "Epoch 143/300\n"
     ]
    },
    {
     "name": "stdout",
     "output_type": "stream",
     "text": [
      "37/37 [==============================] - 0s 2ms/step - loss: 26160382.0000 - val_loss: 26779302.0000\n",
      "Epoch 144/300\n",
      "37/37 [==============================] - 0s 2ms/step - loss: 25908918.0000 - val_loss: 26569104.0000\n",
      "Epoch 145/300\n",
      "37/37 [==============================] - 0s 2ms/step - loss: 25709518.0000 - val_loss: 26367582.0000\n",
      "Epoch 146/300\n",
      "37/37 [==============================] - 0s 2ms/step - loss: 25505702.0000 - val_loss: 26156598.0000\n",
      "Epoch 147/300\n",
      "37/37 [==============================] - 0s 2ms/step - loss: 25284692.0000 - val_loss: 26012244.0000\n",
      "Epoch 148/300\n",
      "37/37 [==============================] - 0s 2ms/step - loss: 25123902.0000 - val_loss: 25861018.0000\n",
      "Epoch 149/300\n",
      "37/37 [==============================] - 0s 2ms/step - loss: 24989172.0000 - val_loss: 25717486.0000\n",
      "Epoch 150/300\n",
      "37/37 [==============================] - 0s 2ms/step - loss: 24852444.0000 - val_loss: 25595542.0000\n",
      "Epoch 151/300\n",
      "37/37 [==============================] - 0s 2ms/step - loss: 24711516.0000 - val_loss: 25467520.0000\n",
      "Epoch 152/300\n",
      "37/37 [==============================] - 0s 2ms/step - loss: 24593426.0000 - val_loss: 25341184.0000\n",
      "Epoch 153/300\n",
      "37/37 [==============================] - 0s 2ms/step - loss: 24440132.0000 - val_loss: 25204296.0000\n",
      "Epoch 154/300\n",
      "37/37 [==============================] - 0s 2ms/step - loss: 24270522.0000 - val_loss: 25030642.0000\n",
      "Epoch 155/300\n",
      "37/37 [==============================] - 0s 2ms/step - loss: 24088316.0000 - val_loss: 24864004.0000\n",
      "Epoch 156/300\n",
      "37/37 [==============================] - 0s 2ms/step - loss: 23917296.0000 - val_loss: 24704630.0000\n",
      "Epoch 157/300\n",
      "37/37 [==============================] - 0s 2ms/step - loss: 23731396.0000 - val_loss: 24554678.0000\n",
      "Epoch 158/300\n",
      "37/37 [==============================] - 0s 2ms/step - loss: 23575392.0000 - val_loss: 24424422.0000\n",
      "Epoch 159/300\n",
      "37/37 [==============================] - 0s 2ms/step - loss: 23439768.0000 - val_loss: 24352852.0000\n",
      "Epoch 160/300\n",
      "37/37 [==============================] - 0s 2ms/step - loss: 23334574.0000 - val_loss: 24195438.0000\n",
      "Epoch 161/300\n",
      "37/37 [==============================] - 0s 2ms/step - loss: 23219748.0000 - val_loss: 24104576.0000\n",
      "Epoch 162/300\n",
      "37/37 [==============================] - 0s 2ms/step - loss: 23090554.0000 - val_loss: 24013596.0000\n",
      "Epoch 163/300\n",
      "37/37 [==============================] - 0s 2ms/step - loss: 23009072.0000 - val_loss: 23891374.0000\n",
      "Epoch 164/300\n",
      "37/37 [==============================] - 0s 2ms/step - loss: 22860724.0000 - val_loss: 23776898.0000\n",
      "Epoch 165/300\n",
      "37/37 [==============================] - 0s 2ms/step - loss: 22750706.0000 - val_loss: 23685082.0000\n",
      "Epoch 166/300\n",
      "37/37 [==============================] - 0s 2ms/step - loss: 22676340.0000 - val_loss: 23583332.0000\n",
      "Epoch 167/300\n",
      "37/37 [==============================] - 0s 2ms/step - loss: 22509348.0000 - val_loss: 23443090.0000\n",
      "Epoch 168/300\n",
      "37/37 [==============================] - 0s 2ms/step - loss: 22399128.0000 - val_loss: 23386938.0000\n",
      "Epoch 169/300\n",
      "37/37 [==============================] - 0s 2ms/step - loss: 22290780.0000 - val_loss: 23314228.0000\n",
      "Epoch 170/300\n",
      "37/37 [==============================] - 0s 2ms/step - loss: 22198312.0000 - val_loss: 23172872.0000\n",
      "Epoch 171/300\n",
      "37/37 [==============================] - 0s 2ms/step - loss: 22094000.0000 - val_loss: 23081540.0000\n",
      "Epoch 172/300\n",
      "37/37 [==============================] - 0s 2ms/step - loss: 21998122.0000 - val_loss: 23009090.0000\n",
      "Epoch 173/300\n",
      "37/37 [==============================] - 0s 2ms/step - loss: 21916338.0000 - val_loss: 22940274.0000\n",
      "Epoch 174/300\n",
      "37/37 [==============================] - 0s 2ms/step - loss: 21839886.0000 - val_loss: 22938034.0000\n",
      "Epoch 175/300\n",
      "37/37 [==============================] - 0s 2ms/step - loss: 21781560.0000 - val_loss: 22825706.0000\n",
      "Epoch 176/300\n",
      "37/37 [==============================] - 0s 2ms/step - loss: 21700342.0000 - val_loss: 22782944.0000\n",
      "Epoch 177/300\n",
      "37/37 [==============================] - 0s 2ms/step - loss: 21663530.0000 - val_loss: 22732740.0000\n",
      "Epoch 178/300\n",
      "37/37 [==============================] - 0s 2ms/step - loss: 21615796.0000 - val_loss: 22690374.0000\n",
      "Epoch 179/300\n",
      "37/37 [==============================] - 0s 2ms/step - loss: 21546856.0000 - val_loss: 22651794.0000\n",
      "Epoch 180/300\n",
      "37/37 [==============================] - 0s 2ms/step - loss: 21495072.0000 - val_loss: 22608790.0000\n",
      "Epoch 181/300\n",
      "37/37 [==============================] - 0s 2ms/step - loss: 21450248.0000 - val_loss: 22562640.0000\n",
      "Epoch 182/300\n",
      "37/37 [==============================] - 0s 2ms/step - loss: 21415008.0000 - val_loss: 22587954.0000\n",
      "Epoch 183/300\n",
      "37/37 [==============================] - 0s 2ms/step - loss: 21358860.0000 - val_loss: 22467770.0000\n",
      "Epoch 184/300\n",
      "37/37 [==============================] - 0s 2ms/step - loss: 21259690.0000 - val_loss: 22439006.0000\n",
      "Epoch 185/300\n",
      "37/37 [==============================] - 0s 2ms/step - loss: 21201638.0000 - val_loss: 22364700.0000\n",
      "Epoch 186/300\n",
      "37/37 [==============================] - 0s 2ms/step - loss: 21128914.0000 - val_loss: 22328676.0000\n",
      "Epoch 187/300\n",
      "37/37 [==============================] - 0s 2ms/step - loss: 21097198.0000 - val_loss: 22356682.0000\n",
      "Epoch 188/300\n",
      "37/37 [==============================] - 0s 2ms/step - loss: 21010152.0000 - val_loss: 22238146.0000\n",
      "Epoch 189/300\n",
      "37/37 [==============================] - 0s 2ms/step - loss: 20983194.0000 - val_loss: 22204584.0000\n",
      "Epoch 190/300\n",
      "37/37 [==============================] - 0s 2ms/step - loss: 20915422.0000 - val_loss: 22164330.0000\n",
      "Epoch 191/300\n",
      "37/37 [==============================] - 0s 2ms/step - loss: 20879908.0000 - val_loss: 22163614.0000\n",
      "Epoch 192/300\n",
      "37/37 [==============================] - 0s 2ms/step - loss: 20831002.0000 - val_loss: 22100972.0000\n",
      "Epoch 193/300\n",
      "37/37 [==============================] - 0s 2ms/step - loss: 20786408.0000 - val_loss: 22106676.0000\n",
      "Epoch 194/300\n",
      "37/37 [==============================] - 0s 2ms/step - loss: 20773084.0000 - val_loss: 22042466.0000\n",
      "Epoch 195/300\n",
      "37/37 [==============================] - 0s 2ms/step - loss: 20719716.0000 - val_loss: 22071294.0000\n",
      "Epoch 196/300\n",
      "37/37 [==============================] - 0s 2ms/step - loss: 20711212.0000 - val_loss: 22004984.0000\n",
      "Epoch 197/300\n",
      "37/37 [==============================] - 0s 2ms/step - loss: 20637230.0000 - val_loss: 21948758.0000\n",
      "Epoch 198/300\n",
      "37/37 [==============================] - 0s 2ms/step - loss: 20598458.0000 - val_loss: 21941916.0000\n",
      "Epoch 199/300\n",
      "37/37 [==============================] - 0s 2ms/step - loss: 20570636.0000 - val_loss: 21957102.0000\n",
      "Epoch 200/300\n",
      "37/37 [==============================] - 0s 2ms/step - loss: 20548304.0000 - val_loss: 21877360.0000\n",
      "Epoch 201/300\n",
      "37/37 [==============================] - 0s 2ms/step - loss: 20517120.0000 - val_loss: 21852596.0000\n",
      "Epoch 202/300\n",
      "37/37 [==============================] - 0s 2ms/step - loss: 20496500.0000 - val_loss: 21825210.0000\n",
      "Epoch 203/300\n",
      "37/37 [==============================] - 0s 2ms/step - loss: 20448878.0000 - val_loss: 21850452.0000\n",
      "Epoch 204/300\n",
      "37/37 [==============================] - 0s 2ms/step - loss: 20437320.0000 - val_loss: 21792956.0000\n",
      "Epoch 205/300\n",
      "37/37 [==============================] - 0s 2ms/step - loss: 20417780.0000 - val_loss: 21787306.0000\n",
      "Epoch 206/300\n",
      "37/37 [==============================] - 0s 2ms/step - loss: 20403600.0000 - val_loss: 21743640.0000\n",
      "Epoch 207/300\n",
      "37/37 [==============================] - 0s 2ms/step - loss: 20381898.0000 - val_loss: 21717832.0000\n",
      "Epoch 208/300\n",
      "37/37 [==============================] - 0s 2ms/step - loss: 20339246.0000 - val_loss: 21695186.0000\n",
      "Epoch 209/300\n",
      "37/37 [==============================] - 0s 2ms/step - loss: 20305724.0000 - val_loss: 21705964.0000\n",
      "Epoch 210/300\n",
      "37/37 [==============================] - 0s 2ms/step - loss: 20286478.0000 - val_loss: 21656178.0000\n",
      "Epoch 211/300\n",
      "37/37 [==============================] - 0s 2ms/step - loss: 20249418.0000 - val_loss: 21655568.0000\n",
      "Epoch 212/300\n",
      "37/37 [==============================] - 0s 2ms/step - loss: 20225816.0000 - val_loss: 21635634.0000\n",
      "Epoch 213/300\n",
      "37/37 [==============================] - 0s 2ms/step - loss: 20210490.0000 - val_loss: 21618294.0000\n",
      "Epoch 214/300\n"
     ]
    },
    {
     "name": "stdout",
     "output_type": "stream",
     "text": [
      "37/37 [==============================] - 0s 2ms/step - loss: 20191436.0000 - val_loss: 21589796.0000\n",
      "Epoch 215/300\n",
      "37/37 [==============================] - 0s 2ms/step - loss: 20167544.0000 - val_loss: 21573032.0000\n",
      "Epoch 216/300\n",
      "37/37 [==============================] - 0s 2ms/step - loss: 20136134.0000 - val_loss: 21557382.0000\n",
      "Epoch 217/300\n",
      "37/37 [==============================] - 0s 2ms/step - loss: 20130206.0000 - val_loss: 21538810.0000\n",
      "Epoch 218/300\n",
      "37/37 [==============================] - 0s 2ms/step - loss: 20104958.0000 - val_loss: 21519302.0000\n",
      "Epoch 219/300\n",
      "37/37 [==============================] - 0s 2ms/step - loss: 20090022.0000 - val_loss: 21537190.0000\n",
      "Epoch 220/300\n",
      "37/37 [==============================] - 0s 2ms/step - loss: 20077154.0000 - val_loss: 21495402.0000\n",
      "Epoch 221/300\n",
      "37/37 [==============================] - 0s 2ms/step - loss: 20038046.0000 - val_loss: 21473864.0000\n",
      "Epoch 222/300\n",
      "37/37 [==============================] - 0s 2ms/step - loss: 20026220.0000 - val_loss: 21455318.0000\n",
      "Epoch 223/300\n",
      "37/37 [==============================] - 0s 2ms/step - loss: 19997326.0000 - val_loss: 21446670.0000\n",
      "Epoch 224/300\n",
      "37/37 [==============================] - 0s 2ms/step - loss: 19970672.0000 - val_loss: 21430764.0000\n",
      "Epoch 225/300\n",
      "37/37 [==============================] - 0s 2ms/step - loss: 19985358.0000 - val_loss: 21413190.0000\n",
      "Epoch 226/300\n",
      "37/37 [==============================] - 0s 2ms/step - loss: 19938200.0000 - val_loss: 21416756.0000\n",
      "Epoch 227/300\n",
      "37/37 [==============================] - 0s 2ms/step - loss: 19939212.0000 - val_loss: 21377328.0000\n",
      "Epoch 228/300\n",
      "37/37 [==============================] - 0s 2ms/step - loss: 19919870.0000 - val_loss: 21368166.0000\n",
      "Epoch 229/300\n",
      "37/37 [==============================] - 0s 2ms/step - loss: 19887904.0000 - val_loss: 21358946.0000\n",
      "Epoch 230/300\n",
      "37/37 [==============================] - 0s 2ms/step - loss: 19891860.0000 - val_loss: 21337312.0000\n",
      "Epoch 231/300\n",
      "37/37 [==============================] - 0s 2ms/step - loss: 19874218.0000 - val_loss: 21330058.0000\n",
      "Epoch 232/300\n",
      "37/37 [==============================] - 0s 2ms/step - loss: 19850708.0000 - val_loss: 21315752.0000\n",
      "Epoch 233/300\n",
      "37/37 [==============================] - 0s 2ms/step - loss: 19830556.0000 - val_loss: 21308248.0000\n",
      "Epoch 234/300\n",
      "37/37 [==============================] - 0s 2ms/step - loss: 19807974.0000 - val_loss: 21281438.0000\n",
      "Epoch 235/300\n",
      "37/37 [==============================] - 0s 2ms/step - loss: 19793186.0000 - val_loss: 21266012.0000\n",
      "Epoch 236/300\n",
      "37/37 [==============================] - 0s 2ms/step - loss: 19813720.0000 - val_loss: 21255162.0000\n",
      "Epoch 237/300\n",
      "37/37 [==============================] - 0s 2ms/step - loss: 19790568.0000 - val_loss: 21241666.0000\n",
      "Epoch 238/300\n",
      "37/37 [==============================] - 0s 2ms/step - loss: 19794058.0000 - val_loss: 21244188.0000\n",
      "Epoch 239/300\n",
      "37/37 [==============================] - 0s 2ms/step - loss: 19731678.0000 - val_loss: 21217208.0000\n",
      "Epoch 240/300\n",
      "37/37 [==============================] - 0s 2ms/step - loss: 19744430.0000 - val_loss: 21205994.0000\n",
      "Epoch 241/300\n",
      "37/37 [==============================] - 0s 2ms/step - loss: 19727204.0000 - val_loss: 21197016.0000\n",
      "Epoch 242/300\n",
      "37/37 [==============================] - 0s 2ms/step - loss: 19704364.0000 - val_loss: 21241250.0000\n",
      "Epoch 243/300\n",
      "37/37 [==============================] - 0s 2ms/step - loss: 19693708.0000 - val_loss: 21267302.0000\n",
      "Epoch 244/300\n",
      "37/37 [==============================] - 0s 2ms/step - loss: 19717708.0000 - val_loss: 21196334.0000\n",
      "Epoch 245/300\n",
      "37/37 [==============================] - 0s 2ms/step - loss: 19672012.0000 - val_loss: 21160624.0000\n",
      "Epoch 246/300\n",
      "37/37 [==============================] - 0s 2ms/step - loss: 19639462.0000 - val_loss: 21180680.0000\n",
      "Epoch 247/300\n",
      "37/37 [==============================] - 0s 2ms/step - loss: 19661684.0000 - val_loss: 21140544.0000\n",
      "Epoch 248/300\n",
      "37/37 [==============================] - 0s 2ms/step - loss: 19629720.0000 - val_loss: 21114742.0000\n",
      "Epoch 249/300\n",
      "37/37 [==============================] - 0s 2ms/step - loss: 19618512.0000 - val_loss: 21118412.0000\n",
      "Epoch 250/300\n",
      "37/37 [==============================] - 0s 2ms/step - loss: 19602550.0000 - val_loss: 21119798.0000\n",
      "Epoch 251/300\n",
      "37/37 [==============================] - 0s 2ms/step - loss: 19630650.0000 - val_loss: 21082474.0000\n",
      "Epoch 252/300\n",
      "37/37 [==============================] - 0s 2ms/step - loss: 19584612.0000 - val_loss: 21086206.0000\n",
      "Epoch 253/300\n",
      "37/37 [==============================] - 0s 2ms/step - loss: 19582350.0000 - val_loss: 21062516.0000\n",
      "Epoch 254/300\n",
      "37/37 [==============================] - 0s 2ms/step - loss: 19560814.0000 - val_loss: 21051148.0000\n",
      "Epoch 255/300\n",
      "37/37 [==============================] - 0s 2ms/step - loss: 19557702.0000 - val_loss: 21039204.0000\n",
      "Epoch 256/300\n",
      "37/37 [==============================] - 0s 2ms/step - loss: 19557404.0000 - val_loss: 21036030.0000\n",
      "Epoch 257/300\n",
      "37/37 [==============================] - 0s 2ms/step - loss: 19533824.0000 - val_loss: 21020096.0000\n",
      "Epoch 258/300\n",
      "37/37 [==============================] - 0s 2ms/step - loss: 19512890.0000 - val_loss: 21013922.0000\n",
      "Epoch 259/300\n",
      "37/37 [==============================] - 0s 2ms/step - loss: 19523900.0000 - val_loss: 21017222.0000\n",
      "Epoch 260/300\n",
      "37/37 [==============================] - 0s 2ms/step - loss: 19516230.0000 - val_loss: 20991216.0000\n",
      "Epoch 261/300\n",
      "37/37 [==============================] - 0s 2ms/step - loss: 19487700.0000 - val_loss: 20978640.0000\n",
      "Epoch 262/300\n",
      "37/37 [==============================] - 0s 2ms/step - loss: 19484772.0000 - val_loss: 20974360.0000\n",
      "Epoch 263/300\n",
      "37/37 [==============================] - 0s 2ms/step - loss: 19463034.0000 - val_loss: 20977088.0000\n",
      "Epoch 264/300\n",
      "37/37 [==============================] - 0s 2ms/step - loss: 19461278.0000 - val_loss: 20954090.0000\n",
      "Epoch 265/300\n",
      "37/37 [==============================] - 0s 2ms/step - loss: 19457368.0000 - val_loss: 20989614.0000\n",
      "Epoch 266/300\n",
      "37/37 [==============================] - 0s 2ms/step - loss: 19428264.0000 - val_loss: 20930640.0000\n",
      "Epoch 267/300\n",
      "37/37 [==============================] - 0s 2ms/step - loss: 19456854.0000 - val_loss: 20929582.0000\n",
      "Epoch 268/300\n",
      "37/37 [==============================] - 0s 2ms/step - loss: 19427834.0000 - val_loss: 20913516.0000\n",
      "Epoch 269/300\n",
      "37/37 [==============================] - 0s 2ms/step - loss: 19397090.0000 - val_loss: 20923280.0000\n",
      "Epoch 270/300\n",
      "37/37 [==============================] - 0s 2ms/step - loss: 19403756.0000 - val_loss: 20902292.0000\n",
      "Epoch 271/300\n",
      "37/37 [==============================] - 0s 2ms/step - loss: 19393822.0000 - val_loss: 20899180.0000\n",
      "Epoch 272/300\n",
      "37/37 [==============================] - 0s 2ms/step - loss: 19380380.0000 - val_loss: 20901798.0000\n",
      "Epoch 273/300\n",
      "37/37 [==============================] - 0s 2ms/step - loss: 19372152.0000 - val_loss: 20867814.0000\n",
      "Epoch 274/300\n",
      "37/37 [==============================] - 0s 2ms/step - loss: 19368872.0000 - val_loss: 20858882.0000\n",
      "Epoch 275/300\n",
      "37/37 [==============================] - 0s 2ms/step - loss: 19359302.0000 - val_loss: 20853212.0000\n",
      "Epoch 276/300\n",
      "37/37 [==============================] - 0s 2ms/step - loss: 19351580.0000 - val_loss: 20849754.0000\n",
      "Epoch 277/300\n",
      "37/37 [==============================] - 0s 2ms/step - loss: 19347366.0000 - val_loss: 20827074.0000\n",
      "Epoch 278/300\n",
      "37/37 [==============================] - 0s 2ms/step - loss: 19350450.0000 - val_loss: 20835348.0000\n",
      "Epoch 279/300\n",
      "37/37 [==============================] - 0s 2ms/step - loss: 19322462.0000 - val_loss: 20821076.0000\n",
      "Epoch 280/300\n",
      "37/37 [==============================] - 0s 2ms/step - loss: 19301026.0000 - val_loss: 20860048.0000\n",
      "Epoch 281/300\n",
      "37/37 [==============================] - 0s 2ms/step - loss: 19307868.0000 - val_loss: 20826646.0000\n",
      "Epoch 282/300\n",
      "37/37 [==============================] - 0s 2ms/step - loss: 19290862.0000 - val_loss: 20791580.0000\n",
      "Epoch 283/300\n",
      "37/37 [==============================] - 0s 2ms/step - loss: 19303354.0000 - val_loss: 20777700.0000\n",
      "Epoch 284/300\n",
      "37/37 [==============================] - 0s 2ms/step - loss: 19265148.0000 - val_loss: 20773466.0000\n",
      "Epoch 285/300\n"
     ]
    },
    {
     "name": "stdout",
     "output_type": "stream",
     "text": [
      "37/37 [==============================] - 0s 2ms/step - loss: 19278382.0000 - val_loss: 20769492.0000\n",
      "Epoch 286/300\n",
      "37/37 [==============================] - 0s 2ms/step - loss: 19251002.0000 - val_loss: 20755356.0000\n",
      "Epoch 287/300\n",
      "37/37 [==============================] - 0s 2ms/step - loss: 19243036.0000 - val_loss: 20754702.0000\n",
      "Epoch 288/300\n",
      "37/37 [==============================] - 0s 2ms/step - loss: 19241658.0000 - val_loss: 20745446.0000\n",
      "Epoch 289/300\n",
      "37/37 [==============================] - 0s 2ms/step - loss: 19219226.0000 - val_loss: 20742790.0000\n",
      "Epoch 290/300\n",
      "37/37 [==============================] - 0s 2ms/step - loss: 19223226.0000 - val_loss: 20734410.0000\n",
      "Epoch 291/300\n",
      "37/37 [==============================] - 0s 2ms/step - loss: 19214012.0000 - val_loss: 20725482.0000\n",
      "Epoch 292/300\n",
      "37/37 [==============================] - 0s 2ms/step - loss: 19221780.0000 - val_loss: 20712746.0000\n",
      "Epoch 293/300\n",
      "37/37 [==============================] - 0s 2ms/step - loss: 19257346.0000 - val_loss: 20695584.0000\n",
      "Epoch 294/300\n",
      "37/37 [==============================] - 0s 2ms/step - loss: 19185162.0000 - val_loss: 20698518.0000\n",
      "Epoch 295/300\n",
      "37/37 [==============================] - 0s 2ms/step - loss: 19200830.0000 - val_loss: 20676028.0000\n",
      "Epoch 296/300\n",
      "37/37 [==============================] - 0s 2ms/step - loss: 19181186.0000 - val_loss: 20672598.0000\n",
      "Epoch 297/300\n",
      "37/37 [==============================] - 0s 2ms/step - loss: 19176258.0000 - val_loss: 20663678.0000\n",
      "Epoch 298/300\n",
      "37/37 [==============================] - 0s 2ms/step - loss: 19167432.0000 - val_loss: 20651250.0000\n",
      "Epoch 299/300\n",
      "37/37 [==============================] - 0s 2ms/step - loss: 19176438.0000 - val_loss: 20662868.0000\n",
      "Epoch 300/300\n",
      "37/37 [==============================] - 0s 2ms/step - loss: 19145646.0000 - val_loss: 20641066.0000\n"
     ]
    },
    {
     "data": {
      "text/plain": [
       "<keras.callbacks.History at 0x2c1f2f56df0>"
      ]
     },
     "execution_count": 57,
     "metadata": {},
     "output_type": "execute_result"
    }
   ],
   "source": [
    "model.fit(x=x_train, y=y_train, epochs=300, validation_data = (x_test,y_test), batch_size = 250) # validasyon işlemi verebiliriz ve batch size ile tüm veriyi vermek yerine parti parti verebiliriz, epochs kadar makineyi yormaz.  Eğitimin Yapıldığı Kod Bloğudur dikkat"
   ]
  },
  {
   "cell_type": "code",
   "execution_count": 58,
   "id": "b1d9ea79",
   "metadata": {},
   "outputs": [],
   "source": [
    "kayipveri = pd.DataFrame(model.history.history) # kayıp verisini alma"
   ]
  },
  {
   "cell_type": "code",
   "execution_count": 59,
   "id": "2c8e398b",
   "metadata": {},
   "outputs": [
    {
     "data": {
      "text/html": [
       "<div>\n",
       "<style scoped>\n",
       "    .dataframe tbody tr th:only-of-type {\n",
       "        vertical-align: middle;\n",
       "    }\n",
       "\n",
       "    .dataframe tbody tr th {\n",
       "        vertical-align: top;\n",
       "    }\n",
       "\n",
       "    .dataframe thead th {\n",
       "        text-align: right;\n",
       "    }\n",
       "</style>\n",
       "<table border=\"1\" class=\"dataframe\">\n",
       "  <thead>\n",
       "    <tr style=\"text-align: right;\">\n",
       "      <th></th>\n",
       "      <th>loss</th>\n",
       "      <th>val_loss</th>\n",
       "    </tr>\n",
       "  </thead>\n",
       "  <tbody>\n",
       "    <tr>\n",
       "      <th>0</th>\n",
       "      <td>672135744.0</td>\n",
       "      <td>688084544.0</td>\n",
       "    </tr>\n",
       "    <tr>\n",
       "      <th>1</th>\n",
       "      <td>672084352.0</td>\n",
       "      <td>687993216.0</td>\n",
       "    </tr>\n",
       "    <tr>\n",
       "      <th>2</th>\n",
       "      <td>671926656.0</td>\n",
       "      <td>687727744.0</td>\n",
       "    </tr>\n",
       "    <tr>\n",
       "      <th>3</th>\n",
       "      <td>671471360.0</td>\n",
       "      <td>686957120.0</td>\n",
       "    </tr>\n",
       "    <tr>\n",
       "      <th>4</th>\n",
       "      <td>670205632.0</td>\n",
       "      <td>684940288.0</td>\n",
       "    </tr>\n",
       "  </tbody>\n",
       "</table>\n",
       "</div>"
      ],
      "text/plain": [
       "          loss     val_loss\n",
       "0  672135744.0  688084544.0\n",
       "1  672084352.0  687993216.0\n",
       "2  671926656.0  687727744.0\n",
       "3  671471360.0  686957120.0\n",
       "4  670205632.0  684940288.0"
      ]
     },
     "execution_count": 59,
     "metadata": {},
     "output_type": "execute_result"
    }
   ],
   "source": [
    "kayipveri.head()"
   ]
  },
  {
   "cell_type": "code",
   "execution_count": 60,
   "id": "d4f84d5d",
   "metadata": {},
   "outputs": [
    {
     "data": {
      "text/plain": [
       "<AxesSubplot:>"
      ]
     },
     "execution_count": 60,
     "metadata": {},
     "output_type": "execute_result"
    },
    {
     "data": {
      "image/png": "[encoded data removed]",
      "text/plain": [
       "<Figure size 640x480 with 1 Axes>"
      ]
     },
     "metadata": {},
     "output_type": "display_data"
    }
   ],
   "source": [
    "kayipveri.plot()"
   ]
  },
  {
   "cell_type": "code",
   "execution_count": 61,
   "id": "91cd6612",
   "metadata": {},
   "outputs": [],
   "source": [
    "# aşağı inip birbirlerine yakın değerlerde olması bizim için iyi bir gösterge"
   ]
  },
  {
   "cell_type": "code",
   "execution_count": 62,
   "id": "da3021a6",
   "metadata": {},
   "outputs": [],
   "source": [
    "# lossların birbirine yakın olması gerekir"
   ]
  },
  {
   "cell_type": "code",
   "execution_count": 63,
   "id": "61ae456c",
   "metadata": {},
   "outputs": [],
   "source": [
    "from sklearn.metrics import mean_squared_error, mean_absolute_error "
   ]
  },
  {
   "cell_type": "code",
   "execution_count": 64,
   "id": "4a435373",
   "metadata": {},
   "outputs": [
    {
     "name": "stdout",
     "output_type": "stream",
     "text": [
      "122/122 [==============================] - 0s 692us/step\n"
     ]
    }
   ],
   "source": [
    "tahmindizi = model.predict(x_test) "
   ]
  },
  {
   "cell_type": "code",
   "execution_count": 65,
   "id": "cb39ca67",
   "metadata": {},
   "outputs": [
    {
     "data": {
      "text/plain": [
       "array([[22676.486],\n",
       "       [23590.229],\n",
       "       [24584.576],\n",
       "       ...,\n",
       "       [26053.264],\n",
       "       [12351.681],\n",
       "       [24375.47 ]], dtype=float32)"
      ]
     },
     "execution_count": 65,
     "metadata": {},
     "output_type": "execute_result"
    }
   ],
   "source": [
    "tahmindizi # x testleri tahminlerdir"
   ]
  },
  {
   "cell_type": "code",
   "execution_count": 66,
   "id": "89fc8f74",
   "metadata": {},
   "outputs": [
    {
     "data": {
      "text/plain": [
       "3224.4128374947413"
      ]
     },
     "execution_count": 66,
     "metadata": {},
     "output_type": "execute_result"
    }
   ],
   "source": [
    "mean_absolute_error(y_test,tahmindizi)"
   ]
  },
  {
   "cell_type": "code",
   "execution_count": 67,
   "id": "e4688b3d",
   "metadata": {},
   "outputs": [
    {
     "data": {
      "text/html": [
       "<div>\n",
       "<style scoped>\n",
       "    .dataframe tbody tr th:only-of-type {\n",
       "        vertical-align: middle;\n",
       "    }\n",
       "\n",
       "    .dataframe tbody tr th {\n",
       "        vertical-align: top;\n",
       "    }\n",
       "\n",
       "    .dataframe thead th {\n",
       "        text-align: right;\n",
       "    }\n",
       "</style>\n",
       "<table border=\"1\" class=\"dataframe\">\n",
       "  <thead>\n",
       "    <tr style=\"text-align: right;\">\n",
       "      <th></th>\n",
       "      <th>year</th>\n",
       "      <th>price</th>\n",
       "      <th>mileage</th>\n",
       "      <th>tax</th>\n",
       "      <th>mpg</th>\n",
       "      <th>engineSize</th>\n",
       "    </tr>\n",
       "  </thead>\n",
       "  <tbody>\n",
       "    <tr>\n",
       "      <th>count</th>\n",
       "      <td>12987.000000</td>\n",
       "      <td>12987.000000</td>\n",
       "      <td>12987.000000</td>\n",
       "      <td>12987.000000</td>\n",
       "      <td>12987.000000</td>\n",
       "      <td>12987.000000</td>\n",
       "    </tr>\n",
       "    <tr>\n",
       "      <th>mean</th>\n",
       "      <td>2017.285516</td>\n",
       "      <td>24074.855779</td>\n",
       "      <td>22133.367367</td>\n",
       "      <td>129.676215</td>\n",
       "      <td>55.438392</td>\n",
       "      <td>2.051059</td>\n",
       "    </tr>\n",
       "    <tr>\n",
       "      <th>std</th>\n",
       "      <td>2.189633</td>\n",
       "      <td>9866.601115</td>\n",
       "      <td>21197.472376</td>\n",
       "      <td>65.167429</td>\n",
       "      <td>15.025902</td>\n",
       "      <td>0.532313</td>\n",
       "    </tr>\n",
       "    <tr>\n",
       "      <th>min</th>\n",
       "      <td>1997.000000</td>\n",
       "      <td>650.000000</td>\n",
       "      <td>1.000000</td>\n",
       "      <td>0.000000</td>\n",
       "      <td>1.100000</td>\n",
       "      <td>0.000000</td>\n",
       "    </tr>\n",
       "    <tr>\n",
       "      <th>25%</th>\n",
       "      <td>2016.000000</td>\n",
       "      <td>17355.000000</td>\n",
       "      <td>6320.000000</td>\n",
       "      <td>125.000000</td>\n",
       "      <td>45.600000</td>\n",
       "      <td>1.700000</td>\n",
       "    </tr>\n",
       "    <tr>\n",
       "      <th>50%</th>\n",
       "      <td>2018.000000</td>\n",
       "      <td>22299.000000</td>\n",
       "      <td>15371.000000</td>\n",
       "      <td>145.000000</td>\n",
       "      <td>56.500000</td>\n",
       "      <td>2.000000</td>\n",
       "    </tr>\n",
       "    <tr>\n",
       "      <th>75%</th>\n",
       "      <td>2019.000000</td>\n",
       "      <td>28706.000000</td>\n",
       "      <td>31986.500000</td>\n",
       "      <td>145.000000</td>\n",
       "      <td>64.200000</td>\n",
       "      <td>2.100000</td>\n",
       "    </tr>\n",
       "    <tr>\n",
       "      <th>max</th>\n",
       "      <td>2020.000000</td>\n",
       "      <td>65990.000000</td>\n",
       "      <td>259000.000000</td>\n",
       "      <td>580.000000</td>\n",
       "      <td>217.300000</td>\n",
       "      <td>6.200000</td>\n",
       "    </tr>\n",
       "  </tbody>\n",
       "</table>\n",
       "</div>"
      ],
      "text/plain": [
       "               year         price        mileage           tax           mpg  \\\n",
       "count  12987.000000  12987.000000   12987.000000  12987.000000  12987.000000   \n",
       "mean    2017.285516  24074.855779   22133.367367    129.676215     55.438392   \n",
       "std        2.189633   9866.601115   21197.472376     65.167429     15.025902   \n",
       "min     1997.000000    650.000000       1.000000      0.000000      1.100000   \n",
       "25%     2016.000000  17355.000000    6320.000000    125.000000     45.600000   \n",
       "50%     2018.000000  22299.000000   15371.000000    145.000000     56.500000   \n",
       "75%     2019.000000  28706.000000   31986.500000    145.000000     64.200000   \n",
       "max     2020.000000  65990.000000  259000.000000    580.000000    217.300000   \n",
       "\n",
       "         engineSize  \n",
       "count  12987.000000  \n",
       "mean       2.051059  \n",
       "std        0.532313  \n",
       "min        0.000000  \n",
       "25%        1.700000  \n",
       "50%        2.000000  \n",
       "75%        2.100000  \n",
       "max        6.200000  "
      ]
     },
     "execution_count": 67,
     "metadata": {},
     "output_type": "execute_result"
    }
   ],
   "source": [
    "dataFrame.describe()"
   ]
  },
  {
   "cell_type": "code",
   "execution_count": 74,
   "id": "9ccb093d",
   "metadata": {},
   "outputs": [
    {
     "data": {
      "text/plain": [
       "[<matplotlib.lines.Line2D at 0x2c1e66706a0>]"
      ]
     },
     "execution_count": 74,
     "metadata": {},
     "output_type": "execute_result"
    },
    {
     "data": {
      "image/png": "[encoded data removed]",
      "text/plain": [
       "<Figure size 640x480 with 1 Axes>"
      ]
     },
     "metadata": {},
     "output_type": "display_data"
    }
   ],
   "source": [
    "plt.scatter(y_test,tahmindizi)\n",
    "plt.plot(y_test,y_test,\"g-*\")"
   ]
  },
  {
   "cell_type": "code",
   "execution_count": 75,
   "id": "85b7ff26",
   "metadata": {},
   "outputs": [
    {
     "data": {
      "text/plain": [
       "year           2019.0\n",
       "price         65000.0\n",
       "mileage        3398.0\n",
       "tax             145.0\n",
       "mpg              27.2\n",
       "engineSize        4.0\n",
       "Name: 4727, dtype: float64"
      ]
     },
     "execution_count": 75,
     "metadata": {},
     "output_type": "execute_result"
    }
   ],
   "source": [
    "dataFrame.iloc[3]"
   ]
  },
  {
   "cell_type": "code",
   "execution_count": 76,
   "id": "a47e1a88",
   "metadata": {},
   "outputs": [],
   "source": [
    "arabaseries = dataFrame.drop(\"price\",axis=1).iloc[2]"
   ]
  },
  {
   "cell_type": "code",
   "execution_count": 77,
   "id": "19909c8f",
   "metadata": {},
   "outputs": [
    {
     "data": {
      "text/plain": [
       "year          2020.0\n",
       "mileage       3999.0\n",
       "tax            145.0\n",
       "mpg             28.0\n",
       "engineSize       4.0\n",
       "Name: 3191, dtype: float64"
      ]
     },
     "execution_count": 77,
     "metadata": {},
     "output_type": "execute_result"
    }
   ],
   "source": [
    "arabaseries # dataframenin sadece bir elemanı olduğu için type'ı series'dir. predictlenebilir."
   ]
  },
  {
   "cell_type": "code",
   "execution_count": 78,
   "id": "a524d165",
   "metadata": {},
   "outputs": [
    {
     "name": "stderr",
     "output_type": "stream",
     "text": [
      "C:\\ProgramData\\Anaconda3\\lib\\site-packages\\sklearn\\base.py:450: UserWarning: X does not have valid feature names, but MinMaxScaler was fitted with feature names\n",
      "  warnings.warn(\n"
     ]
    }
   ],
   "source": [
    "arabaseries = scaler.transform(arabaseries.values.reshape(-1,5))"
   ]
  },
  {
   "cell_type": "code",
   "execution_count": 79,
   "id": "aed5a129",
   "metadata": {},
   "outputs": [
    {
     "name": "stdout",
     "output_type": "stream",
     "text": [
      "1/1 [==============================] - 0s 17ms/step\n"
     ]
    },
    {
     "data": {
      "text/plain": [
       "array([[62036.07]], dtype=float32)"
      ]
     },
     "execution_count": 79,
     "metadata": {},
     "output_type": "execute_result"
    }
   ],
   "source": [
    "model.predict(arabaseries) # arabaseries'in fiyatını tahmin et"
   ]
  },
  {
   "cell_type": "code",
   "execution_count": null,
   "id": "ddcc827a",
   "metadata": {},
   "outputs": [],
   "source": []
  }
 ],
 "metadata": {
  "kernelspec": {
   "display_name": "Python 3 (ipykernel)",
   "language": "python",
   "name": "python3"
  },
  "language_info": {
   "codemirror_mode": {
    "name": "ipython",
    "version": 3
   },
   "file_extension": ".py",
   "mimetype": "text/x-python",
   "name": "python",
   "nbconvert_exporter": "python",
   "pygments_lexer": "ipython3",
   "version": "3.9.13"
  }
 },
 "nbformat": 4,
 "nbformat_minor": 5
}
